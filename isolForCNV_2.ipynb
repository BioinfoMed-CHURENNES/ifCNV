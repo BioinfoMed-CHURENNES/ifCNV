{
 "cells": [
  {
   "cell_type": "code",
   "execution_count": 1,
   "metadata": {},
   "outputs": [],
   "source": [
    "import pandas as pd\n",
    "import matplotlib.pyplot as plt\n",
    "import numpy as np\n",
    "import os\n",
    "import json\n",
    "import re\n",
    "\n",
    "from sklearn.ensemble import IsolationForest\n",
    "\n",
    "\n",
    "###########################################\n",
    "#               FUNCTIONS                 #\n",
    "###########################################\n",
    "\n",
    "\n",
    "def clean_reference(ref,outliers):\n",
    "    for i in outliers:\n",
    "        ref = ref.drop(labels=i,axis=1)\n",
    "\n",
    "    return ref\n",
    "\n",
    "def norm_ref(ref):\n",
    "    med = ref.median(axis=0)\n",
    "    norm_ref = ref/med\n",
    "    return norm_ref, med\n",
    "\n",
    "def create_synthetic(norm_ref,med,N):\n",
    "    synt = pd.DataFrame(index=norm_ref.index,columns=range(N))\n",
    "    for j in range(N):\n",
    "        for i in norm_ref.index:\n",
    "            synt[j][i] = np.random.choice(norm_ref.loc[norm_ref.index==i].values.flatten())\n",
    "\n",
    "        synt[j] = synt[j] * np.random.choice(med)\n",
    "    synt.columns = [\"sample_\" + str(i) for i in range(synt.shape[1])]\n",
    "    return synt\n",
    "\n",
    "def add_features(synt,sample,gene,factor,exon=None):\n",
    "    if exon is None:\n",
    "        pattern = gene\n",
    "        tmp = [str(synt.index[i]).split(\"_\")[0] for i in range(synt.shape[0])]\n",
    "        synt.loc[[tmp[i]==pattern for i in range(len(tmp))],sample] = synt.loc[[tmp[i]==pattern for i in range(len(tmp))]][sample] * factor\n",
    "        \n",
    "    if exon is not None:\n",
    "        pattern = gene + \"_\" + exon\n",
    "        tmp = [str(synt.index[i]).split(\"_\")[0] + \"_\" + str(synt.index[i]).split(\"_\")[1] for i in range(synt.shape[0])] \n",
    "        synt.loc[[tmp[i]==pattern for i in range(len(tmp))],sample] = synt.loc[[tmp[i]==pattern for i in range(len(tmp))]][sample] * factor\n",
    "    \n",
    "    res = synt\n",
    "    return res\n",
    "\n",
    "\n",
    "def openJson(path,n):\n",
    "    \"\"\"\n",
    "    Opens json files in path to create a reads matrix\n",
    "    \"\"\"\n",
    "    tmp = os.listdir(path)\n",
    "    tmp = np.array(tmp)[np.array([bool(re.findall(\"depths.json$\",tmp[i])) for i in range(len(tmp))])]\n",
    "    reads = np.zeros((n,len(tmp)))\n",
    "    amplicons = [\"\" for x in range(n)]\n",
    "    q=0\n",
    "    for p in tmp:\n",
    "        with open(path+p) as json_file:\n",
    "            data = json.load(json_file)\n",
    "            for i in range(n):\n",
    "                amplicons[i] = data[i]['name']\n",
    "                for j in data[i]['depths']:\n",
    "                    reads[i,q] = int(data[i]['depths'][j]['min'])\n",
    "        q=q+1\n",
    "    reads = pd.DataFrame(data = reads,index=amplicons)\n",
    "    reads.columns = [i.split('_')[0]+'_'+i.split('_')[1] for i in tmp]\n",
    "    return reads\n",
    "\n",
    "def sumLibraries(reads):\n",
    "    samples = np.unique([i.split('_')[0] for i in reads.columns])\n",
    "    reads_f = np.zeros((reads.shape[0],len(samples)))\n",
    "    q=0\n",
    "    for i in samples:\n",
    "        sub = reads.filter(regex=\"^\"+i)\n",
    "        reads_f[:,q] = sub.sum(axis=1)\n",
    "        q=q+1\n",
    "    reads_f = pd.DataFrame(data = reads_f,index=reads.index)\n",
    "    reads_f.columns = list(samples)\n",
    "    return(reads_f)\n",
    "\n",
    "def correctIndex(reads,correspondance):\n",
    "    l = [\"\" for x in range(len(reads.index))]\n",
    "    q=0\n",
    "    for i in reads.index:\n",
    "        l[q] = i[(len(i)-9):len(i)]\n",
    "        q=q+1\n",
    "    final = reads[[correspondance[\"amplicon\"][0] in l[x] for x in range(len(l))]]\n",
    "    for i in correspondance[\"amplicon\"]:\n",
    "        if i!=correspondance[\"amplicon\"][0]:\n",
    "            final = pd.concat([final,reads[[i in l[x] for x in range(len(l))]]])\n",
    "    final.index = correspondance[\"gene_exon\"] + \"_\" + correspondance[\"amplicon\"]\n",
    "    return final\n",
    "\n",
    "\n",
    "def filterReads(reads,N,output_path):\n",
    "    reads = reads.loc[:,reads.sum(axis=0)>N]\n",
    "    reads = reads.filter(regex=\"^(?!MSI)\",axis=0)\n",
    "    reads = reads.filter(regex=\"^(?!TN)\")\n",
    "    reads = reads.filter(regex=\"^(?!TP)\")\n",
    "    reads = reads.filter(regex=\"^(?!HD)\")\n",
    "    reads = reads.filter(regex=\"^(?!H2)\")\n",
    "    reads.to_csv(output_path, sep=\"\\t\",index=True)\n",
    "    return(reads)\n",
    "\n",
    "\n",
    "def normalizeReads(reads,output_path,save=False):\n",
    "    reads_norm=reads/reads.median(axis=0)\n",
    "    reads = np.log(reads+1)\n",
    "    if save==True:\n",
    "        reads_norm.to_csv(output_path, sep=\"\\t\",index=True)\n",
    "    return(reads_norm)\n",
    "\n",
    "\n",
    "def aberrantSamples(reads,conta='auto'):\n",
    "    read = reads.astype(\"float\")\n",
    "    tmp = np.percentile(reads, 99, axis = 0)/np.mean(reads, axis = 0)\n",
    "    random_data = np.array(tmp).reshape(-1,1)\n",
    "\n",
    "    clf = IsolationForest(contamination=conta).fit(random_data)\n",
    "    preds = clf.predict(random_data)\n",
    "    res = np.array(reads.columns)[preds==-1]\n",
    "    return(res)\n",
    "\n",
    "def aberrantSamples2(reads):\n",
    "    read = reads.astype(\"float\")\n",
    "    tmp = np.percentile(reads, 5, axis = 0)/np.mean(reads, axis = 0)\n",
    "    random_data = np.array(tmp).reshape(-1,1)\n",
    "\n",
    "    clf = IsolationForest(contamination=0.1).fit(random_data)\n",
    "    preds = clf.predict(random_data)\n",
    "    res = np.array(reads.columns)[preds==-1]\n",
    "    return(res)\n",
    "\n",
    "\n",
    "def aberrantAmplicons(reads_norm,abSamples):\n",
    "    for name in res:\n",
    "        random_data = np.array(reads_norm[name]).reshape(-1,1)\n",
    "        clf = IsolationForest(contamination=0.001).fit(np.array(np.mean(reads_norm, axis = 1)).reshape(-1,1))\n",
    "        preds = clf.predict(random_data)\n",
    "        print(name)\n",
    "        print(np.array(reads_norm.index)[preds==-1])\n",
    "\n",
    "def aberrantAmpliconsPerSample(name,reads_norm,conta='auto',verbose=False):\n",
    "    random_data = np.array(reads_norm[name]).reshape(-1,1)\n",
    "    clf = IsolationForest(contamination=conta).fit(np.array(np.mean(reads_norm, axis = 1)).reshape(-1,1))\n",
    "    preds = clf.predict(random_data)\n",
    "    if verbose:\n",
    "        print(name)\n",
    "        print(np.array(reads_norm.index)[preds==-1])\n",
    "    return(np.array(reads_norm.index)[preds==-1])\n",
    "\n",
    "\n",
    "def aberrantAmpliconsPerSample2(name,reads,abSamples,verbose=False):\n",
    "    ab = [i in abSamples for i in reads.columns]\n",
    "    normalReads = reads[np.delete(reads.columns,ab)]\n",
    "    med = np.percentile(normalReads, 99, axis = 1)\n",
    "    reads = (reads.T/med).T\n",
    "    random_data = np.array(reads[name]).reshape(-1,1)\n",
    "    clf = IsolationForest(contamination=0.05).fit(np.array(np.median(reads, axis = 1)).reshape(-1,1))\n",
    "    preds = clf.predict(random_data)\n",
    "    if verbose:\n",
    "        print(name)\n",
    "        print(np.array(reads.index)[preds==-1])\n",
    "    return(np.array(reads.index)[preds==-1])\n",
    "\n",
    "\n",
    "\n",
    "def percentagePerExon(amplified,reads,verbose=False):\n",
    "    genes = [i.split('_')[0] for i in reads.index]\n",
    "    exons = [i.split('_')[1] for i in reads.index]\n",
    "    g_e = [genes[i]+'_'+exons[i] for i in range(len(genes))]\n",
    "    n_ge = np.array([g_e.count(i) for i in np.unique(g_e)])\n",
    "    ag = [i.split('_')[0] for i in amplified]\n",
    "    ae = [i.split('_')[1] for i in amplified]\n",
    "    age = [ag[i]+'_'+ae[i] for i in range(len(amplified))]\n",
    "    f = pd.DataFrame(index=np.unique(age),columns=[\"percentage\"])\n",
    "    f = f.fillna(0)\n",
    "    for i in range(len(np.unique(age))):\n",
    "        f['percentage'][i] = 100*float(age.count(''.join(np.unique(age)[i]))/n_ge[np.unique(g_e)==''.join(np.unique(age)[i])])\n",
    "        if verbose:\n",
    "            if f['percentage'][i]>50:\n",
    "                print(np.unique(age)[i] + \": \" + str(round(f['percentage'][i]))+'%'+' des amplicons de l\\'exon sont aberrants')\n",
    "    return(f)\n",
    "\n",
    "def percentagePerGene(amplified,reads,verbose=False):\n",
    "    genes = [i.split('_')[0] for i in reads.index]\n",
    "    ag = [i.split('_')[0] for i in amplified]\n",
    "    n_g = np.array([genes.count(i) for i in np.unique(genes)])\n",
    "    f = pd.DataFrame(index=np.unique(ag),columns=[\"percentage\"])\n",
    "    f = f.fillna(0)\n",
    "    for i in range(len(np.unique(ag))):\n",
    "        f['percentage'][i] = 100*float(ag.count(''.join(np.unique(ag)[i]))/n_g[np.unique(genes)==''.join(np.unique(ag)[i])])\n",
    "        if verbose:\n",
    "            if f['percentage'][i]>50:\n",
    "                print(np.unique(ag)[i] + \": \" + str(round(f['percentage'][i]))+'%'+' des amplicons du gene sont aberrants')\n",
    "    return(f)\n",
    "\n",
    "def amplifEvalGene(reads,abSamples,gene,sample):\n",
    "    reads_m = reads#/reads.median(axis=0)\n",
    "    reads_m = reads_m.filter(regex=\"^\"+gene,axis=0)\n",
    "    sub = reads_m\n",
    "    for i in abSamples:\n",
    "        sub = sub.drop(labels=i,axis=1)\n",
    "    reads_m = reads_m[sample]   \n",
    "    val = np.mean(reads_m)/np.mean(sub.mean())\n",
    "    if val==np.inf:\n",
    "        val = 100\n",
    "    return val\n",
    "\n",
    "def scoreAmplif(k,n,N):\n",
    "    p = n/N\n",
    "    x = np.log(1/((p**k)*(1-p)**(n-k)))*(k/n)\n",
    "    # score = 1/(1+np.exp(-x))\n",
    "    score = x/390 + 190/390\n",
    "    \n",
    "    return x\n",
    "\n",
    "def aberrantAmpliconsFinal(reads, reads_norm, abSamples,abSamples2,run,threshold):\n",
    "    f = pd.DataFrame(columns=[\"run\",\"name\",\"gene\",\"amplif\",\"score\"])\n",
    "        \n",
    "    q=0 \n",
    "    for name in abSamples:\n",
    "        #abAmp = aberrantAmpliconsPerSample2(name,reads_norm,abSamples,verbose=False)\n",
    "        abAmp = aberrantAmpliconsPerSample(name,reads_norm,conta=0.05,verbose=False)\n",
    "        if abAmp.shape!=(0,):\n",
    "            genes = np.unique([i.split('_')[0] for i in abAmp])\n",
    "            for gene in genes:\n",
    "                r = re.compile(gene)\n",
    "                abEx = list(filter(r.match, abAmp))\n",
    "                exons1 = [i.split('_')[0]+\"_\"+i.split('_')[1] for i in abEx]\n",
    "                tmp = reads.filter(regex=\"^\"+gene,axis=0)\n",
    "                exons2 = [i.split('_')[0]+\"_\"+i.split('_')[1] for i in tmp.index]\n",
    "                \n",
    "                score = scoreAmplif(len(abEx),tmp.shape[0],reads.shape[0])\n",
    "                \n",
    "                amplif = amplifEvalGene(reads, abSamples, gene, name)\n",
    "\n",
    "                if score>threshold:\n",
    "                    if amplif>1:\n",
    "                        f.loc[q] = [run,name,gene,amplif,score]\n",
    "                        q=q+1\n",
    "                    #if amplif<1:\n",
    "                    #    f.loc[q] = [run,name,gene,amplif,score]\n",
    "                    #    q=q+1\n",
    "\n",
    "    return(f)\n",
    "\n",
    "\n",
    "def aberrantAmpliconsFinal2(reads, reads_norm, abSamples,abSamples2,run,threshold):\n",
    "    f = pd.DataFrame(columns=[\"run\",\"name\",\"gene\",\"amplif\",\"score\"])\n",
    "        \n",
    "    q=0 \n",
    "    for name in abSamples2:\n",
    "        #abAmp = aberrantAmpliconsPerSample2(name,reads_norm,abSamples,verbose=False)\n",
    "        abAmp = aberrantAmpliconsPerSample(name,reads_norm,verbose=False)\n",
    "        if abAmp.shape!=(0,):\n",
    "            genes = abAmp\n",
    "            for gene in genes:\n",
    "                r = re.compile(gene)\n",
    "                abEx = list(filter(r.match, abAmp))\n",
    "                #print(abEx)\n",
    "                tmp = reads.filter(regex=\"^\"+gene,axis=0)                \n",
    "                score = scoreAmplif(len(abEx),tmp.shape[0],reads.shape[0])\n",
    "                \n",
    "                amplif = amplifEvalGene(reads, abSamples, gene, name)\n",
    "\n",
    "                if score>threshold:\n",
    "                    if amplif>1:\n",
    "                        f.loc[q] = [run,name,gene,amplif,score]\n",
    "                        q=q+1\n",
    "                    #if amplif<1:\n",
    "                    #    f.loc[q] = [run,name,gene,amplif,score]\n",
    "                    #    q=q+1\n",
    "\n",
    "    return(f)\n",
    "\n",
    "\n"
   ]
  },
  {
   "cell_type": "code",
   "execution_count": 20,
   "metadata": {},
   "outputs": [
    {
     "name": "stdout",
     "output_type": "stream",
     "text": [
      "['sample_5' 'sample_28']\n"
     ]
    },
    {
     "ename": "IndexError",
     "evalue": "boolean index did not match indexed array along dimension 0; dimension is 1475 but corresponding boolean dimension is 32",
     "output_type": "error",
     "traceback": [
      "\u001b[0;31m---------------------------------------------------------------------------\u001b[0m",
      "\u001b[0;31mIndexError\u001b[0m                                Traceback (most recent call last)",
      "\u001b[0;32m<ipython-input-20-67b4dc19a0af>\u001b[0m in \u001b[0;36m<module>\u001b[0;34m\u001b[0m\n\u001b[1;32m     21\u001b[0m \u001b[0mprint\u001b[0m\u001b[0;34m(\u001b[0m\u001b[0mabSamples\u001b[0m\u001b[0;34m)\u001b[0m\u001b[0;34m\u001b[0m\u001b[0;34m\u001b[0m\u001b[0m\n\u001b[1;32m     22\u001b[0m \u001b[0mfinal_norm\u001b[0m \u001b[0;34m=\u001b[0m \u001b[0mnormalizeReads\u001b[0m\u001b[0;34m(\u001b[0m\u001b[0mdata\u001b[0m\u001b[0;34m,\u001b[0m\u001b[0moutput_path\u001b[0m\u001b[0;34m+\u001b[0m\u001b[0;34m'/reads_'\u001b[0m\u001b[0;34m+\u001b[0m\u001b[0mrun\u001b[0m\u001b[0;34m+\u001b[0m\u001b[0;34m'_norm2.tsv'\u001b[0m\u001b[0;34m,\u001b[0m\u001b[0msave\u001b[0m\u001b[0;34m=\u001b[0m\u001b[0;32mFalse\u001b[0m\u001b[0;34m)\u001b[0m\u001b[0;34m\u001b[0m\u001b[0;34m\u001b[0m\u001b[0m\n\u001b[0;32m---> 23\u001b[0;31m \u001b[0mff\u001b[0m \u001b[0;34m=\u001b[0m \u001b[0maberrantAmpliconsFinal\u001b[0m\u001b[0;34m(\u001b[0m\u001b[0mdata\u001b[0m\u001b[0;34m,\u001b[0m\u001b[0mfinal_norm\u001b[0m\u001b[0;34m,\u001b[0m\u001b[0mabSamples\u001b[0m\u001b[0;34m,\u001b[0m\u001b[0mdata\u001b[0m\u001b[0;34m.\u001b[0m\u001b[0mcolumns\u001b[0m\u001b[0;34m,\u001b[0m\u001b[0mrun\u001b[0m\u001b[0;34m,\u001b[0m\u001b[0;36m3\u001b[0m\u001b[0;34m)\u001b[0m\u001b[0;34m\u001b[0m\u001b[0;34m\u001b[0m\u001b[0m\n\u001b[0m\u001b[1;32m     24\u001b[0m \u001b[0mff\u001b[0m\u001b[0;34m\u001b[0m\u001b[0;34m\u001b[0m\u001b[0m\n",
      "\u001b[0;32m<ipython-input-1-d55d242972e0>\u001b[0m in \u001b[0;36maberrantAmpliconsFinal\u001b[0;34m(reads, reads_norm, abSamples, abSamples2, run, threshold)\u001b[0m\n\u001b[1;32m    226\u001b[0m     \u001b[0;32mfor\u001b[0m \u001b[0mname\u001b[0m \u001b[0;32min\u001b[0m \u001b[0mabSamples\u001b[0m\u001b[0;34m:\u001b[0m\u001b[0;34m\u001b[0m\u001b[0;34m\u001b[0m\u001b[0m\n\u001b[1;32m    227\u001b[0m         \u001b[0;31m#abAmp = aberrantAmpliconsPerSample2(name,reads_norm,abSamples,verbose=False)\u001b[0m\u001b[0;34m\u001b[0m\u001b[0;34m\u001b[0m\u001b[0;34m\u001b[0m\u001b[0m\n\u001b[0;32m--> 228\u001b[0;31m         \u001b[0mabAmp\u001b[0m \u001b[0;34m=\u001b[0m \u001b[0maberrantAmpliconsPerSample\u001b[0m\u001b[0;34m(\u001b[0m\u001b[0mname\u001b[0m\u001b[0;34m,\u001b[0m\u001b[0mreads_norm\u001b[0m\u001b[0;34m,\u001b[0m\u001b[0mverbose\u001b[0m\u001b[0;34m=\u001b[0m\u001b[0;32mFalse\u001b[0m\u001b[0;34m)\u001b[0m\u001b[0;34m\u001b[0m\u001b[0;34m\u001b[0m\u001b[0m\n\u001b[0m\u001b[1;32m    229\u001b[0m         \u001b[0;32mif\u001b[0m \u001b[0mabAmp\u001b[0m\u001b[0;34m.\u001b[0m\u001b[0mshape\u001b[0m\u001b[0;34m!=\u001b[0m\u001b[0;34m(\u001b[0m\u001b[0;36m0\u001b[0m\u001b[0;34m,\u001b[0m\u001b[0;34m)\u001b[0m\u001b[0;34m:\u001b[0m\u001b[0;34m\u001b[0m\u001b[0;34m\u001b[0m\u001b[0m\n\u001b[1;32m    230\u001b[0m             \u001b[0mgenes\u001b[0m \u001b[0;34m=\u001b[0m \u001b[0mnp\u001b[0m\u001b[0;34m.\u001b[0m\u001b[0munique\u001b[0m\u001b[0;34m(\u001b[0m\u001b[0;34m[\u001b[0m\u001b[0mi\u001b[0m\u001b[0;34m.\u001b[0m\u001b[0msplit\u001b[0m\u001b[0;34m(\u001b[0m\u001b[0;34m'_'\u001b[0m\u001b[0;34m)\u001b[0m\u001b[0;34m[\u001b[0m\u001b[0;36m0\u001b[0m\u001b[0;34m]\u001b[0m \u001b[0;32mfor\u001b[0m \u001b[0mi\u001b[0m \u001b[0;32min\u001b[0m \u001b[0mabAmp\u001b[0m\u001b[0;34m]\u001b[0m\u001b[0;34m)\u001b[0m\u001b[0;34m\u001b[0m\u001b[0;34m\u001b[0m\u001b[0m\n",
      "\u001b[0;32m<ipython-input-10-b82648853833>\u001b[0m in \u001b[0;36maberrantAmpliconsPerSample\u001b[0;34m(name, reads, verbose)\u001b[0m\n\u001b[1;32m     18\u001b[0m         \u001b[0mprint\u001b[0m\u001b[0;34m(\u001b[0m\u001b[0mname\u001b[0m\u001b[0;34m)\u001b[0m\u001b[0;34m\u001b[0m\u001b[0;34m\u001b[0m\u001b[0m\n\u001b[1;32m     19\u001b[0m         \u001b[0mprint\u001b[0m\u001b[0;34m(\u001b[0m\u001b[0mnp\u001b[0m\u001b[0;34m.\u001b[0m\u001b[0marray\u001b[0m\u001b[0;34m(\u001b[0m\u001b[0mreads\u001b[0m\u001b[0;34m.\u001b[0m\u001b[0mindex\u001b[0m\u001b[0;34m)\u001b[0m\u001b[0;34m[\u001b[0m\u001b[0mpreds\u001b[0m\u001b[0;34m==\u001b[0m\u001b[0;34m-\u001b[0m\u001b[0;36m1\u001b[0m\u001b[0;34m]\u001b[0m\u001b[0;34m)\u001b[0m\u001b[0;34m\u001b[0m\u001b[0;34m\u001b[0m\u001b[0m\n\u001b[0;32m---> 20\u001b[0;31m     \u001b[0;32mreturn\u001b[0m\u001b[0;34m(\u001b[0m\u001b[0mnp\u001b[0m\u001b[0;34m.\u001b[0m\u001b[0marray\u001b[0m\u001b[0;34m(\u001b[0m\u001b[0mreads\u001b[0m\u001b[0;34m.\u001b[0m\u001b[0mindex\u001b[0m\u001b[0;34m)\u001b[0m\u001b[0;34m[\u001b[0m\u001b[0mpreds\u001b[0m\u001b[0;34m==\u001b[0m\u001b[0;34m-\u001b[0m\u001b[0;36m1\u001b[0m\u001b[0;34m]\u001b[0m\u001b[0;34m)\u001b[0m\u001b[0;34m\u001b[0m\u001b[0;34m\u001b[0m\u001b[0m\n\u001b[0m",
      "\u001b[0;31mIndexError\u001b[0m: boolean index did not match indexed array along dimension 0; dimension is 1475 but corresponding boolean dimension is 32"
     ]
    }
   ],
   "source": [
    "from tqdm.notebook import tqdm\n",
    "pd.set_option('display.max_rows', 100)\n",
    "\n",
    "run = \"synt_tsca\"\n",
    "output_path = \"/home/scabello/Documents/run_juno/CNV/\"\n",
    "\n",
    "#genes = pd.read_csv(\"/Users/admin/Documents/CNV/genes_tsca.txt\",sep=\"\\t\")\n",
    "\n",
    "synt = pd.read_csv(\"/home/scabello/Documents/run_juno/CNV/synthetic_raw.tsv\",sep=\"\\t\",index_col=0)\n",
    "\n",
    "factor = 0\n",
    "data = add_features(synt,sample=\"sample_1\",gene = \"PDGFRA\",factor = factor)\n",
    "data = add_features(synt,sample=\"sample_1\",gene = \"KIT\",factor = factor)\n",
    "data = add_features(data,sample=\"sample_10\",gene = \"EGFR\",factor = factor)\n",
    "data = add_features(data,sample=\"sample_15\",gene = \"MET\",factor = factor)\n",
    "data = add_features(data,sample=\"sample_15\",gene = \"EGFR\",factor = factor)\n",
    "#data = add_features(data,sample=\"sample_20\",gene = \"KRAS\",factor = factor)\n",
    "\n",
    "abSamples = aberrantSamples(data)\n",
    "#abSamples = [\"sample_1\",\"sample_10\",\"sample_15\"]\n",
    "print(abSamples)\n",
    "final_norm = normalizeReads(data,output_path+'/reads_'+run+'_norm2.tsv',save=False)\n",
    "ff = aberrantAmpliconsFinal(data,final_norm,abSamples,data.columns,run,3)\n",
    "ff\n"
   ]
  },
  {
   "cell_type": "code",
   "execution_count": 10,
   "metadata": {},
   "outputs": [],
   "source": [
    "def aberrantSamples(reads):\n",
    "    read = reads.astype(\"float\")\n",
    "    tmp = np.var(reads)/np.mean(reads)\n",
    "    random_data = np.array(tmp).reshape(-1,1)\n",
    "\n",
    "    clf = IsolationForest(contamination=0.05).fit(random_data)\n",
    "    preds = clf.predict(random_data)\n",
    "    res = np.array(reads.columns)[preds==-1]\n",
    "    return(res)\n",
    "\n",
    "\n",
    "def aberrantAmpliconsPerSample(name,reads,verbose=False):\n",
    "    tmp = np.percentile(reads[name], 1, axis = 0)/np.mean(reads, axis = 0)    \n",
    "    random_data = np.array(tmp).reshape(-1,1)\n",
    "    clf = IsolationForest(contamination=0.01).fit(np.array(np.mean(reads, axis = 1)).reshape(-1,1))\n",
    "    preds = clf.predict(random_data)\n",
    "    if verbose:\n",
    "        print(name)\n",
    "        print(np.array(reads.index)[preds==-1])\n",
    "    return(np.array(reads.index)[preds==-1])"
   ]
  },
  {
   "cell_type": "code",
   "execution_count": 218,
   "metadata": {},
   "outputs": [
    {
     "data": {
      "text/plain": [
       "[<matplotlib.lines.Line2D at 0x7f8436be5f10>]"
      ]
     },
     "execution_count": 218,
     "metadata": {},
     "output_type": "execute_result"
    },
    {
     "data": {
      "image/png": "[encoded data removed]",
      "text/plain": [
       "<Figure size 432x288 with 1 Axes>"
      ]
     },
     "metadata": {
      "needs_background": "light"
     },
     "output_type": "display_data"
    }
   ],
   "source": [
    "synt = pd.read_csv(\"/home/scabello/Documents/run_juno/CNV/synthetic_raw.tsv\",sep=\"\\t\",index_col=0)\n",
    "\n",
    "n = 1\n",
    "factor = 0.1\n",
    "data = add_features(synt,sample=\"sample_21\",gene = \"BRCA2\",factor = factor)\n",
    "#data = add_features(data,sample=\"sample_20\",gene = \"EGFR\",factor = factor)\n",
    "#data = add_features(data,sample=\"sample_22\",gene = \"EGFR\",factor = factor)\n",
    "\n",
    "\n",
    "reads = data\n",
    "tmp = np.var(reads)/np.mean(reads)\n",
    "tmp = np.percentile(reads, 10, axis = 0)/np.mean(reads, axis = 0)\n",
    "random_data = np.array(tmp).reshape(-1,1)\n",
    "plt.xticks(rotation=90)\n",
    "plt.plot(tmp)\n",
    "#for i in range(0,101):\n",
    "#    clf = IsolationForest(contamination=i/100).fit(random_data)\n",
    "#    preds = clf.predict(random_data)\n",
    "# #   abSamples = pd.DataFrame(reads.columns)[preds==-1]\n",
    "#    abSamples.to_csv(\"/home/scabello/Documents/run_juno/CNV/seuils/juno/conta/\"+\"conta_\"+str(i)+\".tsv\", sep=\"\\t\",index=False)\n"
   ]
  },
  {
   "cell_type": "code",
   "execution_count": 42,
   "metadata": {},
   "outputs": [
    {
     "name": "stdout",
     "output_type": "stream",
     "text": [
      "['sample_0', 'sample_1', 'sample_2', 'sample_3', 'sample_4']\n"
     ]
    },
    {
     "data": {
      "application/vnd.jupyter.widget-view+json": {
       "model_id": "a01700321b8b4baba54296dc4fecf969",
       "version_major": 2,
       "version_minor": 0
      },
      "text/plain": [
       "HBox(children=(FloatProgress(value=0.0), HTML(value='')))"
      ]
     },
     "metadata": {},
     "output_type": "display_data"
    },
    {
     "name": "stdout",
     "output_type": "stream",
     "text": [
      "\n",
      "5: q/100\n",
      "['sample_0', 'sample_1', 'sample_2', 'sample_3', 'sample_4', 'sample_2', 'sample_3', 'sample_4', 'sample_5']\n"
     ]
    },
    {
     "data": {
      "application/vnd.jupyter.widget-view+json": {
       "model_id": "7febf5242c424693893fcd59190eb615",
       "version_major": 2,
       "version_minor": 0
      },
      "text/plain": [
       "HBox(children=(FloatProgress(value=0.0), HTML(value='')))"
      ]
     },
     "metadata": {},
     "output_type": "display_data"
    },
    {
     "name": "stdout",
     "output_type": "stream",
     "text": [
      "\n"
     ]
    },
    {
     "ename": "KeyboardInterrupt",
     "evalue": "",
     "output_type": "error",
     "traceback": [
      "\u001b[0;31m---------------------------------------------------------------------------\u001b[0m",
      "\u001b[0;31mKeyboardInterrupt\u001b[0m                         Traceback (most recent call last)",
      "\u001b[0;32m<ipython-input-42-76876cd1c9a8>\u001b[0m in \u001b[0;36m<module>\u001b[0;34m\u001b[0m\n\u001b[1;32m     28\u001b[0m         \u001b[0;31m#plt.xticks(rotation=90)\u001b[0m\u001b[0;34m\u001b[0m\u001b[0;34m\u001b[0m\u001b[0;34m\u001b[0m\u001b[0m\n\u001b[1;32m     29\u001b[0m         \u001b[0;31m#plt.plot(tmp)\u001b[0m\u001b[0;34m\u001b[0m\u001b[0;34m\u001b[0m\u001b[0;34m\u001b[0m\u001b[0m\n\u001b[0;32m---> 30\u001b[0;31m         \u001b[0mclf\u001b[0m \u001b[0;34m=\u001b[0m \u001b[0mIsolationForest\u001b[0m\u001b[0;34m(\u001b[0m\u001b[0mcontamination\u001b[0m\u001b[0;34m=\u001b[0m\u001b[0;36m0.1\u001b[0m\u001b[0;34m)\u001b[0m\u001b[0;34m.\u001b[0m\u001b[0mfit\u001b[0m\u001b[0;34m(\u001b[0m\u001b[0mrandom_data\u001b[0m\u001b[0;34m)\u001b[0m\u001b[0;34m\u001b[0m\u001b[0;34m\u001b[0m\u001b[0m\n\u001b[0m\u001b[1;32m     31\u001b[0m         \u001b[0mpreds\u001b[0m \u001b[0;34m=\u001b[0m \u001b[0mclf\u001b[0m\u001b[0;34m.\u001b[0m\u001b[0mpredict\u001b[0m\u001b[0;34m(\u001b[0m\u001b[0mrandom_data\u001b[0m\u001b[0;34m)\u001b[0m\u001b[0;34m\u001b[0m\u001b[0;34m\u001b[0m\u001b[0m\n\u001b[1;32m     32\u001b[0m         \u001b[0mabSamples\u001b[0m \u001b[0;34m=\u001b[0m \u001b[0mpd\u001b[0m\u001b[0;34m.\u001b[0m\u001b[0mDataFrame\u001b[0m\u001b[0;34m(\u001b[0m\u001b[0mreads\u001b[0m\u001b[0;34m.\u001b[0m\u001b[0mcolumns\u001b[0m\u001b[0;34m)\u001b[0m\u001b[0;34m[\u001b[0m\u001b[0mpreds\u001b[0m\u001b[0;34m==\u001b[0m\u001b[0;34m-\u001b[0m\u001b[0;36m1\u001b[0m\u001b[0;34m]\u001b[0m\u001b[0;34m\u001b[0m\u001b[0;34m\u001b[0m\u001b[0m\n",
      "\u001b[0;32m~/miniconda3/lib/python3.8/site-packages/sklearn/ensemble/_iforest.py\u001b[0m in \u001b[0;36mfit\u001b[0;34m(self, X, y, sample_weight)\u001b[0m\n\u001b[1;32m    291\u001b[0m         \u001b[0mself\u001b[0m\u001b[0;34m.\u001b[0m\u001b[0mmax_samples_\u001b[0m \u001b[0;34m=\u001b[0m \u001b[0mmax_samples\u001b[0m\u001b[0;34m\u001b[0m\u001b[0;34m\u001b[0m\u001b[0m\n\u001b[1;32m    292\u001b[0m         \u001b[0mmax_depth\u001b[0m \u001b[0;34m=\u001b[0m \u001b[0mint\u001b[0m\u001b[0;34m(\u001b[0m\u001b[0mnp\u001b[0m\u001b[0;34m.\u001b[0m\u001b[0mceil\u001b[0m\u001b[0;34m(\u001b[0m\u001b[0mnp\u001b[0m\u001b[0;34m.\u001b[0m\u001b[0mlog2\u001b[0m\u001b[0;34m(\u001b[0m\u001b[0mmax\u001b[0m\u001b[0;34m(\u001b[0m\u001b[0mmax_samples\u001b[0m\u001b[0;34m,\u001b[0m \u001b[0;36m2\u001b[0m\u001b[0;34m)\u001b[0m\u001b[0;34m)\u001b[0m\u001b[0;34m)\u001b[0m\u001b[0;34m)\u001b[0m\u001b[0;34m\u001b[0m\u001b[0;34m\u001b[0m\u001b[0m\n\u001b[0;32m--> 293\u001b[0;31m         super()._fit(X, y, max_samples,\n\u001b[0m\u001b[1;32m    294\u001b[0m                      \u001b[0mmax_depth\u001b[0m\u001b[0;34m=\u001b[0m\u001b[0mmax_depth\u001b[0m\u001b[0;34m,\u001b[0m\u001b[0;34m\u001b[0m\u001b[0;34m\u001b[0m\u001b[0m\n\u001b[1;32m    295\u001b[0m                      sample_weight=sample_weight)\n",
      "\u001b[0;32m~/miniconda3/lib/python3.8/site-packages/sklearn/ensemble/_bagging.py\u001b[0m in \u001b[0;36m_fit\u001b[0;34m(self, X, y, max_samples, max_depth, sample_weight)\u001b[0m\n\u001b[1;32m    367\u001b[0m         \u001b[0mself\u001b[0m\u001b[0;34m.\u001b[0m\u001b[0m_seeds\u001b[0m \u001b[0;34m=\u001b[0m \u001b[0mseeds\u001b[0m\u001b[0;34m\u001b[0m\u001b[0;34m\u001b[0m\u001b[0m\n\u001b[1;32m    368\u001b[0m \u001b[0;34m\u001b[0m\u001b[0m\n\u001b[0;32m--> 369\u001b[0;31m         all_results = Parallel(n_jobs=n_jobs, verbose=self.verbose,\n\u001b[0m\u001b[1;32m    370\u001b[0m                                \u001b[0;34m**\u001b[0m\u001b[0mself\u001b[0m\u001b[0;34m.\u001b[0m\u001b[0m_parallel_args\u001b[0m\u001b[0;34m(\u001b[0m\u001b[0;34m)\u001b[0m\u001b[0;34m)\u001b[0m\u001b[0;34m(\u001b[0m\u001b[0;34m\u001b[0m\u001b[0;34m\u001b[0m\u001b[0m\n\u001b[1;32m    371\u001b[0m             delayed(_parallel_build_estimators)(\n",
      "\u001b[0;32m~/miniconda3/lib/python3.8/site-packages/joblib/parallel.py\u001b[0m in \u001b[0;36m__call__\u001b[0;34m(self, iterable)\u001b[0m\n\u001b[1;32m   1039\u001b[0m             \u001b[0;31m# remaining jobs.\u001b[0m\u001b[0;34m\u001b[0m\u001b[0;34m\u001b[0m\u001b[0;34m\u001b[0m\u001b[0m\n\u001b[1;32m   1040\u001b[0m             \u001b[0mself\u001b[0m\u001b[0;34m.\u001b[0m\u001b[0m_iterating\u001b[0m \u001b[0;34m=\u001b[0m \u001b[0;32mFalse\u001b[0m\u001b[0;34m\u001b[0m\u001b[0;34m\u001b[0m\u001b[0m\n\u001b[0;32m-> 1041\u001b[0;31m             \u001b[0;32mif\u001b[0m \u001b[0mself\u001b[0m\u001b[0;34m.\u001b[0m\u001b[0mdispatch_one_batch\u001b[0m\u001b[0;34m(\u001b[0m\u001b[0miterator\u001b[0m\u001b[0;34m)\u001b[0m\u001b[0;34m:\u001b[0m\u001b[0;34m\u001b[0m\u001b[0;34m\u001b[0m\u001b[0m\n\u001b[0m\u001b[1;32m   1042\u001b[0m                 \u001b[0mself\u001b[0m\u001b[0;34m.\u001b[0m\u001b[0m_iterating\u001b[0m \u001b[0;34m=\u001b[0m \u001b[0mself\u001b[0m\u001b[0;34m.\u001b[0m\u001b[0m_original_iterator\u001b[0m \u001b[0;32mis\u001b[0m \u001b[0;32mnot\u001b[0m \u001b[0;32mNone\u001b[0m\u001b[0;34m\u001b[0m\u001b[0;34m\u001b[0m\u001b[0m\n\u001b[1;32m   1043\u001b[0m \u001b[0;34m\u001b[0m\u001b[0m\n",
      "\u001b[0;32m~/miniconda3/lib/python3.8/site-packages/joblib/parallel.py\u001b[0m in \u001b[0;36mdispatch_one_batch\u001b[0;34m(self, iterator)\u001b[0m\n\u001b[1;32m    857\u001b[0m                 \u001b[0;32mreturn\u001b[0m \u001b[0;32mFalse\u001b[0m\u001b[0;34m\u001b[0m\u001b[0;34m\u001b[0m\u001b[0m\n\u001b[1;32m    858\u001b[0m             \u001b[0;32melse\u001b[0m\u001b[0;34m:\u001b[0m\u001b[0;34m\u001b[0m\u001b[0;34m\u001b[0m\u001b[0m\n\u001b[0;32m--> 859\u001b[0;31m                 \u001b[0mself\u001b[0m\u001b[0;34m.\u001b[0m\u001b[0m_dispatch\u001b[0m\u001b[0;34m(\u001b[0m\u001b[0mtasks\u001b[0m\u001b[0;34m)\u001b[0m\u001b[0;34m\u001b[0m\u001b[0;34m\u001b[0m\u001b[0m\n\u001b[0m\u001b[1;32m    860\u001b[0m                 \u001b[0;32mreturn\u001b[0m \u001b[0;32mTrue\u001b[0m\u001b[0;34m\u001b[0m\u001b[0;34m\u001b[0m\u001b[0m\n\u001b[1;32m    861\u001b[0m \u001b[0;34m\u001b[0m\u001b[0m\n",
      "\u001b[0;32m~/miniconda3/lib/python3.8/site-packages/joblib/parallel.py\u001b[0m in \u001b[0;36m_dispatch\u001b[0;34m(self, batch)\u001b[0m\n\u001b[1;32m    775\u001b[0m         \u001b[0;32mwith\u001b[0m \u001b[0mself\u001b[0m\u001b[0;34m.\u001b[0m\u001b[0m_lock\u001b[0m\u001b[0;34m:\u001b[0m\u001b[0;34m\u001b[0m\u001b[0;34m\u001b[0m\u001b[0m\n\u001b[1;32m    776\u001b[0m             \u001b[0mjob_idx\u001b[0m \u001b[0;34m=\u001b[0m \u001b[0mlen\u001b[0m\u001b[0;34m(\u001b[0m\u001b[0mself\u001b[0m\u001b[0;34m.\u001b[0m\u001b[0m_jobs\u001b[0m\u001b[0;34m)\u001b[0m\u001b[0;34m\u001b[0m\u001b[0;34m\u001b[0m\u001b[0m\n\u001b[0;32m--> 777\u001b[0;31m             \u001b[0mjob\u001b[0m \u001b[0;34m=\u001b[0m \u001b[0mself\u001b[0m\u001b[0;34m.\u001b[0m\u001b[0m_backend\u001b[0m\u001b[0;34m.\u001b[0m\u001b[0mapply_async\u001b[0m\u001b[0;34m(\u001b[0m\u001b[0mbatch\u001b[0m\u001b[0;34m,\u001b[0m \u001b[0mcallback\u001b[0m\u001b[0;34m=\u001b[0m\u001b[0mcb\u001b[0m\u001b[0;34m)\u001b[0m\u001b[0;34m\u001b[0m\u001b[0;34m\u001b[0m\u001b[0m\n\u001b[0m\u001b[1;32m    778\u001b[0m             \u001b[0;31m# A job can complete so quickly than its callback is\u001b[0m\u001b[0;34m\u001b[0m\u001b[0;34m\u001b[0m\u001b[0;34m\u001b[0m\u001b[0m\n\u001b[1;32m    779\u001b[0m             \u001b[0;31m# called before we get here, causing self._jobs to\u001b[0m\u001b[0;34m\u001b[0m\u001b[0;34m\u001b[0m\u001b[0;34m\u001b[0m\u001b[0m\n",
      "\u001b[0;32m~/miniconda3/lib/python3.8/site-packages/joblib/_parallel_backends.py\u001b[0m in \u001b[0;36mapply_async\u001b[0;34m(self, func, callback)\u001b[0m\n\u001b[1;32m    206\u001b[0m     \u001b[0;32mdef\u001b[0m \u001b[0mapply_async\u001b[0m\u001b[0;34m(\u001b[0m\u001b[0mself\u001b[0m\u001b[0;34m,\u001b[0m \u001b[0mfunc\u001b[0m\u001b[0;34m,\u001b[0m \u001b[0mcallback\u001b[0m\u001b[0;34m=\u001b[0m\u001b[0;32mNone\u001b[0m\u001b[0;34m)\u001b[0m\u001b[0;34m:\u001b[0m\u001b[0;34m\u001b[0m\u001b[0;34m\u001b[0m\u001b[0m\n\u001b[1;32m    207\u001b[0m         \u001b[0;34m\"\"\"Schedule a func to be run\"\"\"\u001b[0m\u001b[0;34m\u001b[0m\u001b[0;34m\u001b[0m\u001b[0m\n\u001b[0;32m--> 208\u001b[0;31m         \u001b[0mresult\u001b[0m \u001b[0;34m=\u001b[0m \u001b[0mImmediateResult\u001b[0m\u001b[0;34m(\u001b[0m\u001b[0mfunc\u001b[0m\u001b[0;34m)\u001b[0m\u001b[0;34m\u001b[0m\u001b[0;34m\u001b[0m\u001b[0m\n\u001b[0m\u001b[1;32m    209\u001b[0m         \u001b[0;32mif\u001b[0m \u001b[0mcallback\u001b[0m\u001b[0;34m:\u001b[0m\u001b[0;34m\u001b[0m\u001b[0;34m\u001b[0m\u001b[0m\n\u001b[1;32m    210\u001b[0m             \u001b[0mcallback\u001b[0m\u001b[0;34m(\u001b[0m\u001b[0mresult\u001b[0m\u001b[0;34m)\u001b[0m\u001b[0;34m\u001b[0m\u001b[0;34m\u001b[0m\u001b[0m\n",
      "\u001b[0;32m~/miniconda3/lib/python3.8/site-packages/joblib/_parallel_backends.py\u001b[0m in \u001b[0;36m__init__\u001b[0;34m(self, batch)\u001b[0m\n\u001b[1;32m    570\u001b[0m         \u001b[0;31m# Don't delay the application, to avoid keeping the input\u001b[0m\u001b[0;34m\u001b[0m\u001b[0;34m\u001b[0m\u001b[0;34m\u001b[0m\u001b[0m\n\u001b[1;32m    571\u001b[0m         \u001b[0;31m# arguments in memory\u001b[0m\u001b[0;34m\u001b[0m\u001b[0;34m\u001b[0m\u001b[0;34m\u001b[0m\u001b[0m\n\u001b[0;32m--> 572\u001b[0;31m         \u001b[0mself\u001b[0m\u001b[0;34m.\u001b[0m\u001b[0mresults\u001b[0m \u001b[0;34m=\u001b[0m \u001b[0mbatch\u001b[0m\u001b[0;34m(\u001b[0m\u001b[0;34m)\u001b[0m\u001b[0;34m\u001b[0m\u001b[0;34m\u001b[0m\u001b[0m\n\u001b[0m\u001b[1;32m    573\u001b[0m \u001b[0;34m\u001b[0m\u001b[0m\n\u001b[1;32m    574\u001b[0m     \u001b[0;32mdef\u001b[0m \u001b[0mget\u001b[0m\u001b[0;34m(\u001b[0m\u001b[0mself\u001b[0m\u001b[0;34m)\u001b[0m\u001b[0;34m:\u001b[0m\u001b[0;34m\u001b[0m\u001b[0;34m\u001b[0m\u001b[0m\n",
      "\u001b[0;32m~/miniconda3/lib/python3.8/site-packages/joblib/parallel.py\u001b[0m in \u001b[0;36m__call__\u001b[0;34m(self)\u001b[0m\n\u001b[1;32m    260\u001b[0m         \u001b[0;31m# change the default number of processes to -1\u001b[0m\u001b[0;34m\u001b[0m\u001b[0;34m\u001b[0m\u001b[0;34m\u001b[0m\u001b[0m\n\u001b[1;32m    261\u001b[0m         \u001b[0;32mwith\u001b[0m \u001b[0mparallel_backend\u001b[0m\u001b[0;34m(\u001b[0m\u001b[0mself\u001b[0m\u001b[0;34m.\u001b[0m\u001b[0m_backend\u001b[0m\u001b[0;34m,\u001b[0m \u001b[0mn_jobs\u001b[0m\u001b[0;34m=\u001b[0m\u001b[0mself\u001b[0m\u001b[0;34m.\u001b[0m\u001b[0m_n_jobs\u001b[0m\u001b[0;34m)\u001b[0m\u001b[0;34m:\u001b[0m\u001b[0;34m\u001b[0m\u001b[0;34m\u001b[0m\u001b[0m\n\u001b[0;32m--> 262\u001b[0;31m             return [func(*args, **kwargs)\n\u001b[0m\u001b[1;32m    263\u001b[0m                     for func, args, kwargs in self.items]\n\u001b[1;32m    264\u001b[0m \u001b[0;34m\u001b[0m\u001b[0m\n",
      "\u001b[0;32m~/miniconda3/lib/python3.8/site-packages/joblib/parallel.py\u001b[0m in \u001b[0;36m<listcomp>\u001b[0;34m(.0)\u001b[0m\n\u001b[1;32m    260\u001b[0m         \u001b[0;31m# change the default number of processes to -1\u001b[0m\u001b[0;34m\u001b[0m\u001b[0;34m\u001b[0m\u001b[0;34m\u001b[0m\u001b[0m\n\u001b[1;32m    261\u001b[0m         \u001b[0;32mwith\u001b[0m \u001b[0mparallel_backend\u001b[0m\u001b[0;34m(\u001b[0m\u001b[0mself\u001b[0m\u001b[0;34m.\u001b[0m\u001b[0m_backend\u001b[0m\u001b[0;34m,\u001b[0m \u001b[0mn_jobs\u001b[0m\u001b[0;34m=\u001b[0m\u001b[0mself\u001b[0m\u001b[0;34m.\u001b[0m\u001b[0m_n_jobs\u001b[0m\u001b[0;34m)\u001b[0m\u001b[0;34m:\u001b[0m\u001b[0;34m\u001b[0m\u001b[0;34m\u001b[0m\u001b[0m\n\u001b[0;32m--> 262\u001b[0;31m             return [func(*args, **kwargs)\n\u001b[0m\u001b[1;32m    263\u001b[0m                     for func, args, kwargs in self.items]\n\u001b[1;32m    264\u001b[0m \u001b[0;34m\u001b[0m\u001b[0m\n",
      "\u001b[0;32m~/miniconda3/lib/python3.8/site-packages/sklearn/ensemble/_bagging.py\u001b[0m in \u001b[0;36m_parallel_build_estimators\u001b[0;34m(n_estimators, ensemble, X, y, sample_weight, seeds, total_n_estimators, verbose)\u001b[0m\n\u001b[1;32m    108\u001b[0m                 \u001b[0mcurr_sample_weight\u001b[0m\u001b[0;34m[\u001b[0m\u001b[0mnot_indices_mask\u001b[0m\u001b[0;34m]\u001b[0m \u001b[0;34m=\u001b[0m \u001b[0;36m0\u001b[0m\u001b[0;34m\u001b[0m\u001b[0;34m\u001b[0m\u001b[0m\n\u001b[1;32m    109\u001b[0m \u001b[0;34m\u001b[0m\u001b[0m\n\u001b[0;32m--> 110\u001b[0;31m             \u001b[0mestimator\u001b[0m\u001b[0;34m.\u001b[0m\u001b[0mfit\u001b[0m\u001b[0;34m(\u001b[0m\u001b[0mX\u001b[0m\u001b[0;34m[\u001b[0m\u001b[0;34m:\u001b[0m\u001b[0;34m,\u001b[0m \u001b[0mfeatures\u001b[0m\u001b[0;34m]\u001b[0m\u001b[0;34m,\u001b[0m \u001b[0my\u001b[0m\u001b[0;34m,\u001b[0m \u001b[0msample_weight\u001b[0m\u001b[0;34m=\u001b[0m\u001b[0mcurr_sample_weight\u001b[0m\u001b[0;34m)\u001b[0m\u001b[0;34m\u001b[0m\u001b[0;34m\u001b[0m\u001b[0m\n\u001b[0m\u001b[1;32m    111\u001b[0m \u001b[0;34m\u001b[0m\u001b[0m\n\u001b[1;32m    112\u001b[0m         \u001b[0;32melse\u001b[0m\u001b[0;34m:\u001b[0m\u001b[0;34m\u001b[0m\u001b[0;34m\u001b[0m\u001b[0m\n",
      "\u001b[0;32m~/miniconda3/lib/python3.8/site-packages/sklearn/tree/_classes.py\u001b[0m in \u001b[0;36mfit\u001b[0;34m(self, X, y, sample_weight, check_input, X_idx_sorted)\u001b[0m\n\u001b[1;32m   1219\u001b[0m         \"\"\"\n\u001b[1;32m   1220\u001b[0m \u001b[0;34m\u001b[0m\u001b[0m\n\u001b[0;32m-> 1221\u001b[0;31m         super().fit(\n\u001b[0m\u001b[1;32m   1222\u001b[0m             \u001b[0mX\u001b[0m\u001b[0;34m,\u001b[0m \u001b[0my\u001b[0m\u001b[0;34m,\u001b[0m\u001b[0;34m\u001b[0m\u001b[0;34m\u001b[0m\u001b[0m\n\u001b[1;32m   1223\u001b[0m             \u001b[0msample_weight\u001b[0m\u001b[0;34m=\u001b[0m\u001b[0msample_weight\u001b[0m\u001b[0;34m,\u001b[0m\u001b[0;34m\u001b[0m\u001b[0;34m\u001b[0m\u001b[0m\n",
      "\u001b[0;32m~/miniconda3/lib/python3.8/site-packages/sklearn/tree/_classes.py\u001b[0m in \u001b[0;36mfit\u001b[0;34m(self, X, y, sample_weight, check_input, X_idx_sorted)\u001b[0m\n\u001b[1;32m    141\u001b[0m             X_idx_sorted=None):\n\u001b[1;32m    142\u001b[0m \u001b[0;34m\u001b[0m\u001b[0m\n\u001b[0;32m--> 143\u001b[0;31m         \u001b[0mrandom_state\u001b[0m \u001b[0;34m=\u001b[0m \u001b[0mcheck_random_state\u001b[0m\u001b[0;34m(\u001b[0m\u001b[0mself\u001b[0m\u001b[0;34m.\u001b[0m\u001b[0mrandom_state\u001b[0m\u001b[0;34m)\u001b[0m\u001b[0;34m\u001b[0m\u001b[0;34m\u001b[0m\u001b[0m\n\u001b[0m\u001b[1;32m    144\u001b[0m \u001b[0;34m\u001b[0m\u001b[0m\n\u001b[1;32m    145\u001b[0m         \u001b[0;32mif\u001b[0m \u001b[0mself\u001b[0m\u001b[0;34m.\u001b[0m\u001b[0mccp_alpha\u001b[0m \u001b[0;34m<\u001b[0m \u001b[0;36m0.0\u001b[0m\u001b[0;34m:\u001b[0m\u001b[0;34m\u001b[0m\u001b[0;34m\u001b[0m\u001b[0m\n",
      "\u001b[0;32m~/miniconda3/lib/python3.8/site-packages/sklearn/utils/validation.py\u001b[0m in \u001b[0;36mcheck_random_state\u001b[0;34m(seed)\u001b[0m\n\u001b[1;32m    812\u001b[0m         \u001b[0;32mreturn\u001b[0m \u001b[0mnp\u001b[0m\u001b[0;34m.\u001b[0m\u001b[0mrandom\u001b[0m\u001b[0;34m.\u001b[0m\u001b[0mmtrand\u001b[0m\u001b[0;34m.\u001b[0m\u001b[0m_rand\u001b[0m\u001b[0;34m\u001b[0m\u001b[0;34m\u001b[0m\u001b[0m\n\u001b[1;32m    813\u001b[0m     \u001b[0;32mif\u001b[0m \u001b[0misinstance\u001b[0m\u001b[0;34m(\u001b[0m\u001b[0mseed\u001b[0m\u001b[0;34m,\u001b[0m \u001b[0mnumbers\u001b[0m\u001b[0;34m.\u001b[0m\u001b[0mIntegral\u001b[0m\u001b[0;34m)\u001b[0m\u001b[0;34m:\u001b[0m\u001b[0;34m\u001b[0m\u001b[0;34m\u001b[0m\u001b[0m\n\u001b[0;32m--> 814\u001b[0;31m         \u001b[0;32mreturn\u001b[0m \u001b[0mnp\u001b[0m\u001b[0;34m.\u001b[0m\u001b[0mrandom\u001b[0m\u001b[0;34m.\u001b[0m\u001b[0mRandomState\u001b[0m\u001b[0;34m(\u001b[0m\u001b[0mseed\u001b[0m\u001b[0;34m)\u001b[0m\u001b[0;34m\u001b[0m\u001b[0;34m\u001b[0m\u001b[0m\n\u001b[0m\u001b[1;32m    815\u001b[0m     \u001b[0;32mif\u001b[0m \u001b[0misinstance\u001b[0m\u001b[0;34m(\u001b[0m\u001b[0mseed\u001b[0m\u001b[0;34m,\u001b[0m \u001b[0mnp\u001b[0m\u001b[0;34m.\u001b[0m\u001b[0mrandom\u001b[0m\u001b[0;34m.\u001b[0m\u001b[0mRandomState\u001b[0m\u001b[0;34m)\u001b[0m\u001b[0;34m:\u001b[0m\u001b[0;34m\u001b[0m\u001b[0;34m\u001b[0m\u001b[0m\n\u001b[1;32m    816\u001b[0m         \u001b[0;32mreturn\u001b[0m \u001b[0mseed\u001b[0m\u001b[0;34m\u001b[0m\u001b[0;34m\u001b[0m\u001b[0m\n",
      "\u001b[0;32mmtrand.pyx\u001b[0m in \u001b[0;36mnumpy.random.mtrand.RandomState.__init__\u001b[0;34m()\u001b[0m\n",
      "\u001b[0;32m_mt19937.pyx\u001b[0m in \u001b[0;36mnumpy.random._mt19937.MT19937.__init__\u001b[0;34m()\u001b[0m\n",
      "\u001b[0;32m~/miniconda3/lib/python3.8/contextlib.py\u001b[0m in \u001b[0;36minner\u001b[0;34m(*args, **kwds)\u001b[0m\n\u001b[1;32m     73\u001b[0m         \u001b[0;32mdef\u001b[0m \u001b[0minner\u001b[0m\u001b[0;34m(\u001b[0m\u001b[0;34m*\u001b[0m\u001b[0margs\u001b[0m\u001b[0;34m,\u001b[0m \u001b[0;34m**\u001b[0m\u001b[0mkwds\u001b[0m\u001b[0;34m)\u001b[0m\u001b[0;34m:\u001b[0m\u001b[0;34m\u001b[0m\u001b[0;34m\u001b[0m\u001b[0m\n\u001b[1;32m     74\u001b[0m             \u001b[0;32mwith\u001b[0m \u001b[0mself\u001b[0m\u001b[0;34m.\u001b[0m\u001b[0m_recreate_cm\u001b[0m\u001b[0;34m(\u001b[0m\u001b[0;34m)\u001b[0m\u001b[0;34m:\u001b[0m\u001b[0;34m\u001b[0m\u001b[0;34m\u001b[0m\u001b[0m\n\u001b[0;32m---> 75\u001b[0;31m                 \u001b[0;32mreturn\u001b[0m \u001b[0mfunc\u001b[0m\u001b[0;34m(\u001b[0m\u001b[0;34m*\u001b[0m\u001b[0margs\u001b[0m\u001b[0;34m,\u001b[0m \u001b[0;34m**\u001b[0m\u001b[0mkwds\u001b[0m\u001b[0;34m)\u001b[0m\u001b[0;34m\u001b[0m\u001b[0;34m\u001b[0m\u001b[0m\n\u001b[0m\u001b[1;32m     76\u001b[0m         \u001b[0;32mreturn\u001b[0m \u001b[0minner\u001b[0m\u001b[0;34m\u001b[0m\u001b[0;34m\u001b[0m\u001b[0m\n\u001b[1;32m     77\u001b[0m \u001b[0;34m\u001b[0m\u001b[0m\n",
      "\u001b[0;31mKeyboardInterrupt\u001b[0m: "
     ]
    },
    {
     "data": {
      "image/png": "[encoded data removed]",
      "text/plain": [
       "<Figure size 432x288 with 1 Axes>"
      ]
     },
     "metadata": {
      "needs_background": "light"
     },
     "output_type": "display_data"
    }
   ],
   "source": [
    "from tqdm.notebook import tqdm\n",
    "synt = pd.read_csv(\"/Users/admin/Documents/CNV/synthetic_raw.tsv\",sep=\"\\t\",index_col=0)\n",
    "\n",
    "n = 0\n",
    "factor = 3\n",
    "data = add_features(synt,sample=\"sample_0\",gene = \"EGFR\",factor = factor)\n",
    "data = add_features(data,sample=\"sample_1\",gene = \"EGFR\",factor = factor)\n",
    "data = add_features(data,sample=\"sample_2\",gene = \"EGFR\",factor = factor)\n",
    "#data = add_features(data,sample=\"sample_3\",gene = \"EGFR\",factor = factor)\n",
    "temp = [\"sample_0\",\"sample_1\"]\n",
    "\n",
    "for k in range(5,32):\n",
    "\n",
    "    for N in range(2,k):\n",
    "        temp.extend([\"sample_\"+str(N)])\n",
    "    print(temp)\n",
    "    reads = data[temp]\n",
    "    #print(reads.shape)\n",
    "    q=0\n",
    "\n",
    "    tmp = np.percentile(reads, 99, axis = 0)/np.mean(reads, axis = 0)\n",
    "    plt.xticks(rotation=90)\n",
    "    plt.plot(tmp)\n",
    "\n",
    "    for N in tqdm(range(100)):\n",
    "        tmp = np.percentile(reads, 99, axis = 0)/np.mean(reads, axis = 0)\n",
    "        random_data = np.array(tmp).reshape(-1,1)\n",
    "        #plt.xticks(rotation=90)\n",
    "        #plt.plot(tmp)\n",
    "        clf = IsolationForest(contamination=0.1).fit(random_data)\n",
    "        preds = clf.predict(random_data)\n",
    "        abSamples = pd.DataFrame(reads.columns)[preds==-1]\n",
    "        #print(abSamples)\n",
    "        if sum(np.in1d(abSamples,[\"sample_0\",\"sample_1\",\"sample_2\"]))==3:\n",
    "            q=q+1\n",
    "        if sum(np.in1d(abSamples,[\"sample_0\",\"sample_1\",\"sample_2\"]))==2:\n",
    "            q=q+0.67\n",
    "        if sum(np.in1d(abSamples,[\"sample_0\",\"sample_1\",\"sample_2\"]))==1:\n",
    "            q=q+0.33\n",
    "\n",
    "        #abSamples.to_csv(\"/home/scabello/Documents/run_juno/CNV/seuils/juno/conta/\"+str(k)+\".tsv\", sep=\"\\t\",index=False)\n",
    "\n",
    "\n",
    "    print(str(k)+\": q/100\")"
   ]
  },
  {
   "cell_type": "code",
   "execution_count": 4,
   "metadata": {
    "scrolled": true
   },
   "outputs": [
    {
     "data": {
      "application/vnd.jupyter.widget-view+json": {
       "model_id": "2ca5445dbd334af5a3e8db469321d504",
       "version_major": 2,
       "version_minor": 0
      },
      "text/plain": [
       "HBox(children=(FloatProgress(value=0.0, max=10.0), HTML(value='')))"
      ]
     },
     "metadata": {},
     "output_type": "display_data"
    },
    {
     "data": {
      "application/vnd.jupyter.widget-view+json": {
       "model_id": "497cb9c45c5e4073bbf0424d807a4d1b",
       "version_major": 2,
       "version_minor": 0
      },
      "text/plain": [
       "HBox(children=(FloatProgress(value=0.0, max=14.0), HTML(value='')))"
      ]
     },
     "metadata": {},
     "output_type": "display_data"
    },
    {
     "name": "stdout",
     "output_type": "stream",
     "text": [
      "\n"
     ]
    },
    {
     "data": {
      "application/vnd.jupyter.widget-view+json": {
       "model_id": "a6c92cf876c447f5b6bc09a45aa7a887",
       "version_major": 2,
       "version_minor": 0
      },
      "text/plain": [
       "HBox(children=(FloatProgress(value=0.0, max=14.0), HTML(value='')))"
      ]
     },
     "metadata": {},
     "output_type": "display_data"
    },
    {
     "name": "stdout",
     "output_type": "stream",
     "text": [
      "\n"
     ]
    },
    {
     "data": {
      "application/vnd.jupyter.widget-view+json": {
       "model_id": "49c74fd6ec0e4bdda242340b39d1fc30",
       "version_major": 2,
       "version_minor": 0
      },
      "text/plain": [
       "HBox(children=(FloatProgress(value=0.0, max=14.0), HTML(value='')))"
      ]
     },
     "metadata": {},
     "output_type": "display_data"
    },
    {
     "name": "stdout",
     "output_type": "stream",
     "text": [
      "\n"
     ]
    },
    {
     "data": {
      "application/vnd.jupyter.widget-view+json": {
       "model_id": "c3b6d37466104f8b9945eaa5a924ae82",
       "version_major": 2,
       "version_minor": 0
      },
      "text/plain": [
       "HBox(children=(FloatProgress(value=0.0, max=14.0), HTML(value='')))"
      ]
     },
     "metadata": {},
     "output_type": "display_data"
    },
    {
     "name": "stdout",
     "output_type": "stream",
     "text": [
      "\n"
     ]
    },
    {
     "data": {
      "application/vnd.jupyter.widget-view+json": {
       "model_id": "e971f57843c84108a179bf72780fd619",
       "version_major": 2,
       "version_minor": 0
      },
      "text/plain": [
       "HBox(children=(FloatProgress(value=0.0, max=14.0), HTML(value='')))"
      ]
     },
     "metadata": {},
     "output_type": "display_data"
    },
    {
     "name": "stdout",
     "output_type": "stream",
     "text": [
      "\n"
     ]
    },
    {
     "data": {
      "application/vnd.jupyter.widget-view+json": {
       "model_id": "97440b5863994570ae988774581d4d54",
       "version_major": 2,
       "version_minor": 0
      },
      "text/plain": [
       "HBox(children=(FloatProgress(value=0.0, max=14.0), HTML(value='')))"
      ]
     },
     "metadata": {},
     "output_type": "display_data"
    },
    {
     "name": "stdout",
     "output_type": "stream",
     "text": [
      "\n"
     ]
    },
    {
     "data": {
      "application/vnd.jupyter.widget-view+json": {
       "model_id": "65ba1124321e4ded9693bec5ab5e9191",
       "version_major": 2,
       "version_minor": 0
      },
      "text/plain": [
       "HBox(children=(FloatProgress(value=0.0, max=14.0), HTML(value='')))"
      ]
     },
     "metadata": {},
     "output_type": "display_data"
    },
    {
     "name": "stdout",
     "output_type": "stream",
     "text": [
      "\n"
     ]
    },
    {
     "data": {
      "application/vnd.jupyter.widget-view+json": {
       "model_id": "811ef32ad12d4f1ebf423532abb59640",
       "version_major": 2,
       "version_minor": 0
      },
      "text/plain": [
       "HBox(children=(FloatProgress(value=0.0, max=14.0), HTML(value='')))"
      ]
     },
     "metadata": {},
     "output_type": "display_data"
    },
    {
     "name": "stdout",
     "output_type": "stream",
     "text": [
      "\n"
     ]
    },
    {
     "data": {
      "application/vnd.jupyter.widget-view+json": {
       "model_id": "9c5d488416ab4967a6e0259a065d66d7",
       "version_major": 2,
       "version_minor": 0
      },
      "text/plain": [
       "HBox(children=(FloatProgress(value=0.0, max=14.0), HTML(value='')))"
      ]
     },
     "metadata": {},
     "output_type": "display_data"
    },
    {
     "name": "stdout",
     "output_type": "stream",
     "text": [
      "\n"
     ]
    },
    {
     "data": {
      "application/vnd.jupyter.widget-view+json": {
       "model_id": "ce9be1d8358f4a2d8baac109865fff01",
       "version_major": 2,
       "version_minor": 0
      },
      "text/plain": [
       "HBox(children=(FloatProgress(value=0.0, max=14.0), HTML(value='')))"
      ]
     },
     "metadata": {},
     "output_type": "display_data"
    },
    {
     "name": "stdout",
     "output_type": "stream",
     "text": [
      "\n",
      "\n"
     ]
    },
    {
     "data": {
      "image/png": "[encoded data removed]",
      "text/plain": [
       "<Figure size 432x288 with 1 Axes>"
      ]
     },
     "metadata": {
      "needs_background": "light"
     },
     "output_type": "display_data"
    }
   ],
   "source": [
    "from tqdm.notebook import tqdm\n",
    "\n",
    "\n",
    "n = 0\n",
    "factor = 10\n",
    "gene = \"KRAS\"\n",
    "ref = [\"sample_\"+str(i) for i in range(32)]\n",
    "\n",
    "\n",
    "for b in tqdm(range(10)):\n",
    "    tp=[]\n",
    "    fp=[]\n",
    "    fn=[]\n",
    "    tn=[]\n",
    "    for k in tqdm(range(1,15)):\n",
    "        #print(k)\n",
    "        synt = pd.read_csv(\"/Users/admin/Documents/CNV/synthetic_raw.tsv\",sep=\"\\t\",index_col=0)\n",
    "        reads = add_features(synt,sample=\"sample_0\",gene = gene,factor = factor)\n",
    "        temp = [\"sample_0\"]\n",
    "\n",
    "        tmp = np.percentile(reads, 99, axis = 0)/np.mean(reads, axis = 0)\n",
    "        plt.xticks(rotation=90)\n",
    "        plt.plot(tmp)\n",
    "\n",
    "        for N in np.random.randint(30,size=k):\n",
    "            reads = add_features(reads,sample=\"sample_\"+str(N+1),gene = gene,factor = factor)\n",
    "            temp.extend([\"sample_\"+str(N+1)])\n",
    "\n",
    "        neg = np.array(ref)[np.in1d(ref,temp)==False]\n",
    "        \n",
    "        #print(temp)\n",
    "        p=[]\n",
    "        q=[]\n",
    "        r=[]\n",
    "        s=[]\n",
    "        tmp = np.percentile(reads, 99, axis = 0)/np.mean(reads, axis = 0)\n",
    "        plt.xticks(rotation=90)\n",
    "        plt.plot(tmp)\n",
    "\n",
    "        for N in (range(20)):\n",
    "            tmp = np.percentile(reads, 99, axis = 0)/np.mean(reads, axis = 0)\n",
    "            random_data = np.array(tmp).reshape(-1,1)\n",
    "            #plt.xticks(rotation=90)\n",
    "            #plt.plot(tmp)\n",
    "            clf = IsolationForest(contamination=0.1).fit(random_data)\n",
    "            preds = clf.predict(random_data)\n",
    "            abSamples = pd.DataFrame(reads.columns)[preds==-1]\n",
    "            ndet = np.array(ref)[np.in1d(ref,abSamples)==False]\n",
    "            #print(abSamples)\n",
    "            p.extend([sum(np.in1d(abSamples,temp))])\n",
    "            q.extend([sum(np.in1d(abSamples,neg))])\n",
    "            r.extend([sum(np.in1d(ndet,temp))])\n",
    "            s.extend([sum(np.in1d(ndet,neg))])\n",
    "\n",
    "        tp.extend([np.mean(p)])\n",
    "        fp.extend([np.mean(q)])\n",
    "        fn.extend([np.mean(r)])\n",
    "        tn.extend([np.mean(s)])\n",
    "\n",
    "\n",
    "    pd.DataFrame(tp).to_csv(\"/Users/admin/Documents/CNV/article/conta/tp_\"+gene+\"_\"+str(factor)+\"_samples_\"+str(b)+\".tsv\", sep=\"\\t\",index=False)\n",
    "    pd.DataFrame(fp).to_csv(\"/Users/admin/Documents/CNV/article/conta/fp_\"+gene+\"_\"+str(factor)+\"_samples_\"+str(b)+\".tsv\", sep=\"\\t\",index=False)\n",
    "    pd.DataFrame(fn).to_csv(\"/Users/admin/Documents/CNV/article/conta/fn_\"+gene+\"_\"+str(factor)+\"_samples_\"+str(b)+\".tsv\", sep=\"\\t\",index=False)\n",
    "    pd.DataFrame(tn).to_csv(\"/Users/admin/Documents/CNV/article/conta/tn_\"+gene+\"_\"+str(factor)+\"_samples_\"+str(b)+\".tsv\", sep=\"\\t\",index=False)\n",
    "\n",
    "\n",
    "    #print(str(k)+\": \"+str(q/100))"
   ]
  },
  {
   "cell_type": "code",
   "execution_count": 27,
   "metadata": {},
   "outputs": [
    {
     "data": {
      "application/vnd.jupyter.widget-view+json": {
       "model_id": "95d99133e5484713adce4896ac60a0ed",
       "version_major": 2,
       "version_minor": 0
      },
      "text/plain": [
       "HBox(children=(FloatProgress(value=0.0, max=98.0), HTML(value='')))"
      ]
     },
     "metadata": {},
     "output_type": "display_data"
    },
    {
     "name": "stdout",
     "output_type": "stream",
     "text": [
      "\n"
     ]
    }
   ],
   "source": [
    "from tqdm.notebook import tqdm\n",
    "\n",
    "\n",
    "n = 0\n",
    "factor = 5\n",
    "gene = \"EGFR\"\n",
    "\n",
    "tp=[]\n",
    "fp=[]\n",
    "fn=[]\n",
    "tn=[]\n",
    "for b in tqdm(range(2,100)):\n",
    "    ref = [\"sample_\"+str(i) for i in range(b)]\n",
    "    synt = pd.read_csv(\"/Users/admin/Documents/CNV/synthetic_raw_100.tsv\",sep=\"\\t\",index_col=0)\n",
    "    ref = []\n",
    "    for N in np.random.randint(30,size=b):\n",
    "        ref.extend([\"sample_\"+str(N)])\n",
    "    synt = synt.loc[:,np.in1d(synt.columns,ref)]\n",
    "    \n",
    "    temp = np.random.choice(ref)\n",
    "    reads = add_features(synt,sample=temp,gene = gene,factor = factor)\n",
    "\n",
    "    neg = np.array(ref)[np.in1d(ref,temp)==False]\n",
    "\n",
    "    p=[]\n",
    "    q=[]\n",
    "    r=[]\n",
    "    s=[]\n",
    "    for N in (range(100)):\n",
    "        tmp = np.percentile(reads, 99, axis = 0)/np.mean(reads, axis = 0)\n",
    "        random_data = np.array(tmp).reshape(-1,1)\n",
    "        clf = IsolationForest(contamination=0.05).fit(random_data)\n",
    "        preds = clf.predict(random_data)\n",
    "        abSamples = pd.DataFrame(reads.columns)[preds==-1]\n",
    "        ndet = np.array(ref)[np.in1d(ref,abSamples)==False]\n",
    "        #print(abSamples)\n",
    "        p.extend([sum(np.in1d(abSamples,temp))])\n",
    "        q.extend([sum(np.in1d(abSamples,neg))])\n",
    "        r.extend([sum(np.in1d(ndet,temp))])\n",
    "        s.extend([sum(np.in1d(ndet,neg))])\n",
    "\n",
    "    tp.extend([np.mean(p)])\n",
    "    fp.extend([np.mean(q)])\n",
    "    fn.extend([np.mean(r)])\n",
    "    tn.extend([np.mean(s)])\n",
    "\n",
    "\n",
    "pd.DataFrame(tp).to_csv(\"/Users/admin/Documents/CNV/article/conta/tp_\"+gene+\"_\"+str(factor)+\"_1sample_2.tsv\", sep=\"\\t\",index=False)\n",
    "pd.DataFrame(fp).to_csv(\"/Users/admin/Documents/CNV/article/conta/fp_\"+gene+\"_\"+str(factor)+\"_1sample_2.tsv\", sep=\"\\t\",index=False)\n",
    "pd.DataFrame(fn).to_csv(\"/Users/admin/Documents/CNV/article/conta/fn_\"+gene+\"_\"+str(factor)+\"_1sample_2.tsv\", sep=\"\\t\",index=False)\n",
    "pd.DataFrame(tn).to_csv(\"/Users/admin/Documents/CNV/article/conta/tn_\"+gene+\"_\"+str(factor)+\"_1sample_2.tsv\", sep=\"\\t\",index=False)\n",
    "\n",
    "\n",
    "    #print(str(k)+\": \"+str(q/100))"
   ]
  },
  {
   "cell_type": "code",
   "execution_count": 24,
   "metadata": {},
   "outputs": [
    {
     "data": {
      "text/plain": [
       "'sample_15'"
      ]
     },
     "execution_count": 24,
     "metadata": {},
     "output_type": "execute_result"
    }
   ],
   "source": [
    "synt = pd.read_csv(\"/Users/admin/Documents/CNV/synthetic_raw.tsv\",sep=\"\\t\",index_col=0)\n",
    "ref = []\n",
    "for N in np.random.randint(30,size=5):\n",
    "    ref.extend([\"sample_\"+str(N)])\n",
    "synt.loc[:,np.in1d(synt.columns,ref)]\n",
    "np.random.choice(ref)"
   ]
  },
  {
   "cell_type": "code",
   "execution_count": 24,
   "metadata": {},
   "outputs": [
    {
     "name": "stdout",
     "output_type": "stream",
     "text": [
      "['sample_11']\n"
     ]
    },
    {
     "data": {
      "text/html": [
       "<div>\n",
       "<style scoped>\n",
       "    .dataframe tbody tr th:only-of-type {\n",
       "        vertical-align: middle;\n",
       "    }\n",
       "\n",
       "    .dataframe tbody tr th {\n",
       "        vertical-align: top;\n",
       "    }\n",
       "\n",
       "    .dataframe thead th {\n",
       "        text-align: right;\n",
       "    }\n",
       "</style>\n",
       "<table border=\"1\" class=\"dataframe\">\n",
       "  <thead>\n",
       "    <tr style=\"text-align: right;\">\n",
       "      <th></th>\n",
       "      <th>run</th>\n",
       "      <th>name</th>\n",
       "      <th>gene</th>\n",
       "      <th>amplif</th>\n",
       "      <th>score</th>\n",
       "    </tr>\n",
       "  </thead>\n",
       "  <tbody>\n",
       "    <tr>\n",
       "      <th>0</th>\n",
       "      <td>synt_tsca</td>\n",
       "      <td>sample_11</td>\n",
       "      <td>EGFR</td>\n",
       "      <td>6.656741</td>\n",
       "      <td>116.983071</td>\n",
       "    </tr>\n",
       "  </tbody>\n",
       "</table>\n",
       "</div>"
      ],
      "text/plain": [
       "         run       name  gene    amplif       score\n",
       "0  synt_tsca  sample_11  EGFR  6.656741  116.983071"
      ]
     },
     "execution_count": 24,
     "metadata": {},
     "output_type": "execute_result"
    }
   ],
   "source": [
    "synt = pd.read_csv(\"/Users/admin/Documents/CNV/synthetic_raw.tsv\",sep=\"\\t\",index_col=0)\n",
    "run = \"synt_tsca\"\n",
    "output_path = \"/Users/admin/Documents/CNV/\"\n",
    "\n",
    "def amplifEvalGene(reads,abSamples,gene,sample):\n",
    "    reads_m = reads/reads.median(axis=0)\n",
    "    reads_m = reads_m.filter(regex=\"^\"+gene,axis=0)\n",
    "    sub = reads_m\n",
    "    for i in abSamples:\n",
    "        sub = sub.drop(labels=i,axis=1)\n",
    "    reads_m = reads_m[sample]   \n",
    "    val = np.mean(reads_m)/np.mean(sub.mean())\n",
    "    if val==np.inf:\n",
    "        val = 100\n",
    "    return val\n",
    "\n",
    "\n",
    "\n",
    "data = add_features(synt,sample=\"sample_11\",gene = \"EGFR\",factor = 6)\n",
    "abSamples=aberrantSamples(data,conta=0.01)\n",
    "print(abSamples)\n",
    "final_norm = normalizeReads(data,output_path+'/reads_'+run+'_norm_capture.tsv',save=False)\n",
    "ff = aberrantAmpliconsFinal(data,final_norm,abSamples,data.columns,run,10)\n",
    "#ff.to_csv(output_path+\"res_capture.tsv\", sep=\"\\t\",index=True)\n",
    "ff\n",
    "#f = pd.DataFrame(columns=[\"run\",\"name\",\"target\",\"amplif\"])\n",
    "#q=0\n",
    "#for name in tqdm(abSamples2):\n",
    "#    #abAmp = aberrantAmpliconsPerSample2(name,reads_norm,abSamples,verbose=False)\n",
    "#    abAmp = aberrantAmpliconsPerSample(name,final_norm,verbose=False)\n",
    "#    for i in abAmp:\n",
    "#        amplif = amplifEvalGene(data,abSamples,i,name)\n",
    "#        f.loc[q] = [run,name,i,amplif]\n",
    "#        q=q+1\n",
    "\n",
    "#f.to_csv(output_path+\"res_capture.tsv\", sep=\"\\t\",index=True)"
   ]
  },
  {
   "cell_type": "code",
   "execution_count": 2,
   "metadata": {},
   "outputs": [
    {
     "data": {
      "application/vnd.jupyter.widget-view+json": {
       "model_id": "6f9d38bb87e744ec8039ffaac4450de8",
       "version_major": 2,
       "version_minor": 0
      },
      "text/plain": [
       "HBox(children=(FloatProgress(value=0.0, max=148.0), HTML(value='')))"
      ]
     },
     "metadata": {},
     "output_type": "display_data"
    },
    {
     "name": "stdout",
     "output_type": "stream",
     "text": [
      "\n"
     ]
    },
    {
     "data": {
      "application/vnd.jupyter.widget-view+json": {
       "model_id": "40d7fa77b8a34f3fa594ef217b3e49ad",
       "version_major": 2,
       "version_minor": 0
      },
      "text/plain": [
       "HBox(children=(FloatProgress(value=0.0, max=148.0), HTML(value='')))"
      ]
     },
     "metadata": {},
     "output_type": "display_data"
    },
    {
     "name": "stdout",
     "output_type": "stream",
     "text": [
      "\n"
     ]
    },
    {
     "data": {
      "application/vnd.jupyter.widget-view+json": {
       "model_id": "865339e0e2454ae998fc45507f5898e7",
       "version_major": 2,
       "version_minor": 0
      },
      "text/plain": [
       "HBox(children=(FloatProgress(value=0.0, max=148.0), HTML(value='')))"
      ]
     },
     "metadata": {},
     "output_type": "display_data"
    },
    {
     "name": "stdout",
     "output_type": "stream",
     "text": [
      "\n"
     ]
    },
    {
     "data": {
      "application/vnd.jupyter.widget-view+json": {
       "model_id": "f1cb40bdbe9b43af891d4db0ac9eb381",
       "version_major": 2,
       "version_minor": 0
      },
      "text/plain": [
       "HBox(children=(FloatProgress(value=0.0, max=148.0), HTML(value='')))"
      ]
     },
     "metadata": {},
     "output_type": "display_data"
    },
    {
     "name": "stdout",
     "output_type": "stream",
     "text": [
      "\n"
     ]
    },
    {
     "data": {
      "application/vnd.jupyter.widget-view+json": {
       "model_id": "5202dbb0cf9c43fab0237784b6a06ec2",
       "version_major": 2,
       "version_minor": 0
      },
      "text/plain": [
       "HBox(children=(FloatProgress(value=0.0, max=148.0), HTML(value='')))"
      ]
     },
     "metadata": {},
     "output_type": "display_data"
    },
    {
     "name": "stdout",
     "output_type": "stream",
     "text": [
      "\n"
     ]
    },
    {
     "data": {
      "application/vnd.jupyter.widget-view+json": {
       "model_id": "3ad04963c1a84a75b5cd55ce8807cd1c",
       "version_major": 2,
       "version_minor": 0
      },
      "text/plain": [
       "HBox(children=(FloatProgress(value=0.0, max=148.0), HTML(value='')))"
      ]
     },
     "metadata": {},
     "output_type": "display_data"
    },
    {
     "name": "stdout",
     "output_type": "stream",
     "text": [
      "\n"
     ]
    },
    {
     "data": {
      "application/vnd.jupyter.widget-view+json": {
       "model_id": "6d4214efe0eb4a48960449cdd5ae37a6",
       "version_major": 2,
       "version_minor": 0
      },
      "text/plain": [
       "HBox(children=(FloatProgress(value=0.0, max=148.0), HTML(value='')))"
      ]
     },
     "metadata": {},
     "output_type": "display_data"
    },
    {
     "name": "stdout",
     "output_type": "stream",
     "text": [
      "\n"
     ]
    },
    {
     "data": {
      "application/vnd.jupyter.widget-view+json": {
       "model_id": "56f8151f79bb4effae1223ca792a7291",
       "version_major": 2,
       "version_minor": 0
      },
      "text/plain": [
       "HBox(children=(FloatProgress(value=0.0, max=148.0), HTML(value='')))"
      ]
     },
     "metadata": {},
     "output_type": "display_data"
    },
    {
     "name": "stdout",
     "output_type": "stream",
     "text": [
      "\n"
     ]
    },
    {
     "data": {
      "application/vnd.jupyter.widget-view+json": {
       "model_id": "b9e27089c28847a58f880a5951c0013b",
       "version_major": 2,
       "version_minor": 0
      },
      "text/plain": [
       "HBox(children=(FloatProgress(value=0.0, max=148.0), HTML(value='')))"
      ]
     },
     "metadata": {},
     "output_type": "display_data"
    },
    {
     "name": "stdout",
     "output_type": "stream",
     "text": [
      "\n"
     ]
    }
   ],
   "source": [
    "from tqdm.notebook import tqdm\n",
    "\n",
    "synt = pd.read_csv(\"/Users/admin/Documents/CNV/synthetic_raw.tsv\",sep=\"\\t\",index_col=0)\n",
    "\n",
    "tpp=[]\n",
    "q=[]\n",
    "r=[]\n",
    "s=[]\n",
    "for p in range(2,11):\n",
    "    for k in tqdm(range(1,round(synt.shape[0]/2),5)): \n",
    "        for factor in range(2,11):\n",
    "            synt = pd.read_csv(\"/Users/admin/Documents/CNV/synthetic_raw.tsv\",sep=\"\\t\",index_col=0)\n",
    "\n",
    "            col = \"sample_\"+str(np.random.randint(32))\n",
    "            row = synt.index[np.random.randint(synt.shape[0],size=k)]\n",
    "\n",
    "            neg = synt.columns[~np.in1d(synt.columns,col)]\n",
    "\n",
    "            for i in row:\n",
    "                synt.at[i,col] = synt.at[i,col]*factor\n",
    "\n",
    "            synt_norm = synt/synt.median(axis=0)\n",
    "            #synt_norm = np.log(synt_norm)\n",
    "            pos = col\n",
    "\n",
    "            tmp = np.percentile(synt, 99, axis = 0)/np.mean(synt, axis = 0)\n",
    "            random_data = np.array(tmp).reshape(-1,1)\n",
    "\n",
    "            clf = IsolationForest(contamination=\"auto\").fit(random_data)\n",
    "            preds = clf.predict(random_data)\n",
    "            det = np.array(synt.columns)[preds==-1]\n",
    "\n",
    "            ndet = synt.columns[~np.in1d(synt.columns,det)]\n",
    "            #random_data = np.array(tmp).reshape(-1,1)\n",
    "            #clf = IsolationForest(contamination=\"auto\").fit(np.array(np.mean(synt_norm[normal], axis = 1)).reshape(-1,1))\n",
    "            #preds = clf.predict(random_data)\n",
    "\n",
    "            #det = np.array(synt_norm.index)[preds==-1]\n",
    "            #ndet = synt.index[~np.in1d(synt.index,det)]\n",
    "            #pos = row\n",
    "            #neg = synt.index[~np.in1d(synt.index,pos)]\n",
    "\n",
    "            tpp.extend([sum(np.in1d(ndet,neg))/len(ndet)])\n",
    "\n",
    "\n",
    "    pd.DataFrame(tpp).to_csv(\"/Users/admin/Documents/CNV/article/tn_ampli_\"+str(p)+\".tsv\", sep=\"\\t\",index=False)\n"
   ]
  },
  {
   "cell_type": "code",
   "execution_count": 508,
   "metadata": {},
   "outputs": [
    {
     "data": {
      "application/vnd.jupyter.widget-view+json": {
       "model_id": "d76ba534fcb746c582f0ac7e34a425db",
       "version_major": 2,
       "version_minor": 0
      },
      "text/plain": [
       "HBox(children=(FloatProgress(value=0.0, max=10.0), HTML(value='')))"
      ]
     },
     "metadata": {},
     "output_type": "display_data"
    },
    {
     "name": "stdout",
     "output_type": "stream",
     "text": [
      "\n"
     ]
    }
   ],
   "source": [
    "\n",
    "\n",
    "for k in tqdm(range(10)):\n",
    "    synt = pd.read_csv(\"/Users/admin/Documents/CNV/synthetic_raw.tsv\",sep=\"\\t\",index_col=0)\n",
    "\n",
    "    col = \"sample_\"+str(np.random.randint(32))\n",
    "    row = synt.index[np.random.randint(synt.shape[0],size=15)]\n",
    "\n",
    "    normal = synt.columns[~np.in1d(synt.columns,col)]\n",
    "    pos = row\n",
    "    neg = synt.index[~np.in1d(synt.index,pos)]\n",
    "\n",
    "    tpif = []\n",
    "    fpif = []\n",
    "    tnif = []\n",
    "    fnif = []\n",
    "    tpcl = []\n",
    "    fpcl = []\n",
    "    tncl = []\n",
    "    fncl = []\n",
    "\n",
    "    for factor in range(2,11):\n",
    "        factor = factor\n",
    "        for i in row:\n",
    "            synt.at[i,col] = synt.at[i,col]*factor\n",
    "\n",
    "        synt_norm = (synt/synt.median(axis=0))\n",
    "\n",
    "\n",
    "        random_data = np.array(synt_norm[col]/np.array(np.mean(synt_norm[normal], axis = 1))).reshape(-1, 1)\n",
    "        clf = IsolationForest(contamination=1/32).fit(random_data)\n",
    "        preds = clf.predict(random_data)\n",
    "\n",
    "        det = np.array(synt_norm.index)[preds==-1]\n",
    "        ndet = np.array(synt_norm.index)[preds==1]\n",
    "        \n",
    "        tpif.extend([sum(np.in1d(det,pos))])\n",
    "        fpif.extend([sum(np.in1d(det,neg))])\n",
    "        tnif.extend([sum(np.in1d(ndet,neg))])\n",
    "        fnif.extend([sum(np.in1d(ndet,pos))])\n",
    "\n",
    "        random_data = np.array(synt_norm[col]/np.array(np.mean(synt_norm[normal], axis = 1)))\n",
    "        sdev = synt_norm.std(axis=1)\n",
    "        det_1  = synt.index[(random_data-sdev)>1]\n",
    "        det_2  = synt.index[(random_data+sdev)<1]\n",
    "        \n",
    "        det = det_1.union(det_2)\n",
    "        ndet = synt.index[~np.in1d(synt.index,det)]\n",
    "        \n",
    "        tpcl.extend([sum(np.in1d(det,pos))])\n",
    "        fpcl.extend([sum(np.in1d(det,neg))])\n",
    "        tncl.extend([sum(np.in1d(ndet,neg))])\n",
    "        fncl.extend([sum(np.in1d(ndet,pos))])\n",
    "        \n",
    "    pd.DataFrame(tpif).to_csv(\"/Users/admin/Documents/CNV/article/tpif_del_c\"+str(k)+\".tsv\", sep=\"\\t\",index=False)\n",
    "    pd.DataFrame(fpif).to_csv(\"/Users/admin/Documents/CNV/article/fpif_del_c\"+str(k)+\".tsv\", sep=\"\\t\",index=False)\n",
    "    pd.DataFrame(fnif).to_csv(\"/Users/admin/Documents/CNV/article/fnif_del_c\"+str(k)+\".tsv\", sep=\"\\t\",index=False)\n",
    "    pd.DataFrame(tnif).to_csv(\"/Users/admin/Documents/CNV/article/tnif_del_c\"+str(k)+\".tsv\", sep=\"\\t\",index=False)\n",
    "    pd.DataFrame(tpcl).to_csv(\"/Users/admin/Documents/CNV/article/tpcl_del_\"+str(k)+\".tsv\", sep=\"\\t\",index=False)\n",
    "    pd.DataFrame(fpcl).to_csv(\"/Users/admin/Documents/CNV/article/fpcl_del_\"+str(k)+\".tsv\", sep=\"\\t\",index=False)\n",
    "    pd.DataFrame(fncl).to_csv(\"/Users/admin/Documents/CNV/article/fncl_del_\"+str(k)+\".tsv\", sep=\"\\t\",index=False)\n",
    "    pd.DataFrame(tncl).to_csv(\"/Users/admin/Documents/CNV/article/tncl_del_\"+str(k)+\".tsv\", sep=\"\\t\",index=False)\n",
    "\n"
   ]
  },
  {
   "cell_type": "code",
   "execution_count": 509,
   "metadata": {},
   "outputs": [
    {
     "data": {
      "text/plain": [
       "(1475, 32)"
      ]
     },
     "execution_count": 509,
     "metadata": {},
     "output_type": "execute_result"
    }
   ],
   "source": [
    "synt.shape"
   ]
  }
 ],
 "metadata": {
  "kernelspec": {
   "display_name": "Python 3",
   "language": "python",
   "name": "python3"
  },
  "language_info": {
   "codemirror_mode": {
    "name": "ipython",
    "version": 3
   },
   "file_extension": ".py",
   "mimetype": "text/x-python",
   "name": "python",
   "nbconvert_exporter": "python",
   "pygments_lexer": "ipython3",
   "version": "3.8.3"
  }
 },
 "nbformat": 4,
 "nbformat_minor": 4
}

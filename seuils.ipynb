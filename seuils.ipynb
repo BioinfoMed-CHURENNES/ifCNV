{
 "cells": [
  {
   "cell_type": "code",
   "execution_count": 6,
   "metadata": {},
   "outputs": [],
   "source": [
    "import pandas as pd\n",
    "import matplotlib.pyplot as plt\n",
    "import numpy as np\n",
    "import os\n",
    "import json\n",
    "import re\n",
    "\n",
    "from sklearn.ensemble import IsolationForest\n",
    "\n",
    "\n",
    "###########################################\n",
    "#               FUNCTIONS                 #\n",
    "###########################################\n",
    "\n",
    "\n",
    "def clean_reference(ref,outliers):\n",
    "    for i in outliers:\n",
    "        ref = ref.drop(labels=i,axis=1)\n",
    "\n",
    "    return ref\n",
    "\n",
    "def norm_ref(ref):\n",
    "    med = ref.median(axis=0)\n",
    "    norm_ref = ref/med\n",
    "    return norm_ref, med\n",
    "\n",
    "def create_synthetic(norm_ref,med,N):\n",
    "    synt = pd.DataFrame(index=norm_ref.index,columns=range(N))\n",
    "    for j in range(N):\n",
    "        for i in norm_ref.index:\n",
    "            synt[j][i] = np.random.choice(norm_ref.loc[norm_ref.index==i].values.flatten())\n",
    "\n",
    "        synt[j] = synt[j] * np.random.choice(med)\n",
    "    synt.columns = [\"sample_\" + str(i) for i in range(synt.shape[1])]\n",
    "    return synt\n",
    "\n",
    "def add_features(synt,sample,gene,factor,exon=None):\n",
    "    if exon is None:\n",
    "        pattern = gene\n",
    "        tmp = [str(synt.index[i]).split(\"_\")[0] for i in range(synt.shape[0])]\n",
    "        synt.loc[[tmp[i]==pattern for i in range(len(tmp))],sample] = synt.loc[[tmp[i]==pattern for i in range(len(tmp))]][sample] * factor\n",
    "        \n",
    "    if exon is not None:\n",
    "        pattern = gene + \"_\" + exon\n",
    "        tmp = [str(synt.index[i]).split(\"_\")[0] + \"_\" + str(synt.index[i]).split(\"_\")[1] for i in range(synt.shape[0])] \n",
    "        synt.loc[[tmp[i]==pattern for i in range(len(tmp))],sample] = synt.loc[[tmp[i]==pattern for i in range(len(tmp))]][sample] * factor\n",
    "    \n",
    "    res = synt\n",
    "    return res\n",
    "\n",
    "\n",
    "def openJson(path,n):\n",
    "    \"\"\"\n",
    "    Opens json files in path to create a reads matrix\n",
    "    \"\"\"\n",
    "    tmp = os.listdir(path)\n",
    "    tmp = np.array(tmp)[np.array([bool(re.findall(\"depths.json$\",tmp[i])) for i in range(len(tmp))])]\n",
    "    reads = np.zeros((n,len(tmp)))\n",
    "    amplicons = [\"\" for x in range(n)]\n",
    "    q=0\n",
    "    for p in tmp:\n",
    "        with open(path+p) as json_file:\n",
    "            data = json.load(json_file)\n",
    "            for i in range(n):\n",
    "                amplicons[i] = data[i]['name']\n",
    "                for j in data[i]['depths']:\n",
    "                    reads[i,q] = int(data[i]['depths'][j]['min'])\n",
    "        q=q+1\n",
    "    reads = pd.DataFrame(data = reads,index=amplicons)\n",
    "    reads.columns = [i.split('_')[0]+'_'+i.split('_')[1] for i in tmp]\n",
    "    return reads\n",
    "\n",
    "def sumLibraries(reads):\n",
    "    samples = np.unique([i.split('_')[0] for i in reads.columns])\n",
    "    reads_f = np.zeros((reads.shape[0],len(samples)))\n",
    "    q=0\n",
    "    for i in samples:\n",
    "        sub = reads.filter(regex=\"^\"+i)\n",
    "        reads_f[:,q] = sub.sum(axis=1)\n",
    "        q=q+1\n",
    "    reads_f = pd.DataFrame(data = reads_f,index=reads.index)\n",
    "    reads_f.columns = list(samples)\n",
    "    return(reads_f)\n",
    "\n",
    "def correctIndex(reads,correspondance):\n",
    "    l = [\"\" for x in range(len(reads.index))]\n",
    "    q=0\n",
    "    for i in reads.index:\n",
    "        l[q] = i[(len(i)-9):len(i)]\n",
    "        q=q+1\n",
    "    final = reads[[correspondance[\"amplicon\"][0] in l[x] for x in range(len(l))]]\n",
    "    for i in correspondance[\"amplicon\"]:\n",
    "        if i!=correspondance[\"amplicon\"][0]:\n",
    "            final = pd.concat([final,reads[[i in l[x] for x in range(len(l))]]])\n",
    "    final.index = correspondance[\"gene_exon\"] + \"_\" + correspondance[\"amplicon\"]\n",
    "    return final\n",
    "\n",
    "\n",
    "def filterReads(reads,N,output_path):\n",
    "    reads = reads.loc[:,reads.sum(axis=0)>N]\n",
    "    reads = reads.filter(regex=\"^(?!MSI)\",axis=0)\n",
    "    reads = reads.filter(regex=\"^(?!TN)\")\n",
    "    reads = reads.filter(regex=\"^(?!TP)\")\n",
    "    reads = reads.filter(regex=\"^(?!HD)\")\n",
    "    reads = reads.filter(regex=\"^(?!H2)\")\n",
    "    reads.to_csv(output_path, sep=\"\\t\",index=True)\n",
    "    return(reads)\n",
    "\n",
    "\n",
    "def normalizeReads(reads,output_path,save=False):\n",
    "    reads_norm=reads/reads.median(axis=0)\n",
    "    reads = np.log(reads+1)\n",
    "    if save==True:\n",
    "        reads_norm.to_csv(output_path, sep=\"\\t\",index=True)\n",
    "    return(reads_norm)\n",
    "\n",
    "\n",
    "def aberrantSamples(reads):\n",
    "    read = reads.astype(\"float\")\n",
    "    tmp = np.percentile(reads, 99, axis = 0)/np.mean(reads, axis = 0)\n",
    "    random_data = np.array(tmp).reshape(-1,1)\n",
    "\n",
    "    clf = IsolationForest(contamination=0.1).fit(random_data)\n",
    "    preds = clf.predict(random_data)\n",
    "    res = np.array(reads.columns)[preds==-1]\n",
    "    return(res)\n",
    "\n",
    "def aberrantSamples2(reads):\n",
    "    read = reads.astype(\"float\")\n",
    "    tmp = np.percentile(reads, 5, axis = 0)/np.mean(reads, axis = 0)\n",
    "    random_data = np.array(tmp).reshape(-1,1)\n",
    "\n",
    "    clf = IsolationForest(contamination=0.1).fit(random_data)\n",
    "    preds = clf.predict(random_data)\n",
    "    res = np.array(reads.columns)[preds==-1]\n",
    "    return(res)\n",
    "\n",
    "\n",
    "def aberrantAmplicons(reads_norm,abSamples):\n",
    "    for name in res:\n",
    "        random_data = np.array(reads_norm[name]).reshape(-1,1)\n",
    "        clf = IsolationForest(contamination=0.001).fit(np.array(np.mean(reads_norm, axis = 1)).reshape(-1,1))\n",
    "        preds = clf.predict(random_data)\n",
    "        print(name)\n",
    "        print(np.array(reads_norm.index)[preds==-1])\n",
    "\n",
    "def aberrantAmpliconsPerSample(name,reads_norm,verbose=False):\n",
    "    random_data = np.array(reads_norm[name]).reshape(-1,1)\n",
    "    clf = IsolationForest(contamination=0.01).fit(np.array(np.mean(reads_norm, axis = 1)).reshape(-1,1))\n",
    "    preds = clf.predict(random_data)\n",
    "    if verbose:\n",
    "        print(name)\n",
    "        print(np.array(reads_norm.index)[preds==-1])\n",
    "    return(np.array(reads_norm.index)[preds==-1])\n",
    "\n",
    "\n",
    "def aberrantAmpliconsPerSample2(name,reads,abSamples,verbose=False):\n",
    "    ab = [i in abSamples for i in reads.columns]\n",
    "    normalReads = reads[np.delete(reads.columns,ab)]\n",
    "    med = np.percentile(normalReads, 99, axis = 1)\n",
    "    reads = (reads.T/med).T\n",
    "    random_data = np.array(reads[name]).reshape(-1,1)\n",
    "    clf = IsolationForest(contamination=0.05).fit(np.array(np.median(reads, axis = 1)).reshape(-1,1))\n",
    "    preds = clf.predict(random_data)\n",
    "    if verbose:\n",
    "        print(name)\n",
    "        print(np.array(reads.index)[preds==-1])\n",
    "    return(np.array(reads.index)[preds==-1])\n",
    "\n",
    "\n",
    "\n",
    "def percentagePerExon(amplified,reads,verbose=False):\n",
    "    genes = [i.split('_')[0] for i in reads.index]\n",
    "    exons = [i.split('_')[1] for i in reads.index]\n",
    "    g_e = [genes[i]+'_'+exons[i] for i in range(len(genes))]\n",
    "    n_ge = np.array([g_e.count(i) for i in np.unique(g_e)])\n",
    "    ag = [i.split('_')[0] for i in amplified]\n",
    "    ae = [i.split('_')[1] for i in amplified]\n",
    "    age = [ag[i]+'_'+ae[i] for i in range(len(amplified))]\n",
    "    f = pd.DataFrame(index=np.unique(age),columns=[\"percentage\"])\n",
    "    f = f.fillna(0)\n",
    "    for i in range(len(np.unique(age))):\n",
    "        f['percentage'][i] = 100*float(age.count(''.join(np.unique(age)[i]))/n_ge[np.unique(g_e)==''.join(np.unique(age)[i])])\n",
    "        if verbose:\n",
    "            if f['percentage'][i]>50:\n",
    "                print(np.unique(age)[i] + \": \" + str(round(f['percentage'][i]))+'%'+' des amplicons de l\\'exon sont aberrants')\n",
    "    return(f)\n",
    "\n",
    "def percentagePerGene(amplified,reads,verbose=False):\n",
    "    genes = [i.split('_')[0] for i in reads.index]\n",
    "    ag = [i.split('_')[0] for i in amplified]\n",
    "    n_g = np.array([genes.count(i) for i in np.unique(genes)])\n",
    "    f = pd.DataFrame(index=np.unique(ag),columns=[\"percentage\"])\n",
    "    f = f.fillna(0)\n",
    "    for i in range(len(np.unique(ag))):\n",
    "        f['percentage'][i] = 100*float(ag.count(''.join(np.unique(ag)[i]))/n_g[np.unique(genes)==''.join(np.unique(ag)[i])])\n",
    "        if verbose:\n",
    "            if f['percentage'][i]>50:\n",
    "                print(np.unique(ag)[i] + \": \" + str(round(f['percentage'][i]))+'%'+' des amplicons du gene sont aberrants')\n",
    "    return(f)\n",
    "\n",
    "def amplifEvalGene(reads,abSamples,gene,sample):\n",
    "    reads_m = reads/reads.median(axis=0)\n",
    "    sub = reads_m\n",
    "    for i in abSamples:\n",
    "        sub = sub.drop(labels=i,axis=1)\n",
    "    reads_m = reads_m.filter(regex=\"^\"+gene,axis=0)\n",
    "    reads_m = reads_m[sample]   \n",
    "    val = np.mean(reads_m)/np.mean(sub.mean())\n",
    "    if val==np.inf:\n",
    "        val = 100\n",
    "    return val\n",
    "\n",
    "def scoreAmplif(k,n,N,mu):\n",
    "    p = n/N\n",
    "    x = np.log(1/((p**k)*(1-p)**(n-k)))*(k/n)\n",
    "    # score = 1/(1+np.exp(-x))\n",
    "    score = x/390 + 190/390\n",
    "    \n",
    "    return x\n",
    "\n",
    "def aberrantAmpliconsFinal(reads, reads_norm, abSamples,abSamples2,run,threshold):\n",
    "    f = pd.DataFrame(columns=[\"run\",\"name\",\"gene\",\"amplif\",\"score\"])\n",
    "        \n",
    "    q=0 \n",
    "    for name in abSamples2:\n",
    "        #abAmp = aberrantAmpliconsPerSample2(name,reads_norm,abSamples,verbose=False)\n",
    "        abAmp = aberrantAmpliconsPerSample(name,reads_norm,verbose=False)\n",
    "        if abAmp.shape!=(0,):\n",
    "            genes = np.unique([i.split('_')[0] for i in abAmp])\n",
    "            for gene in genes:\n",
    "                r = re.compile(gene)\n",
    "                abEx = list(filter(r.match, abAmp))\n",
    "                exons1 = [i.split('_')[0]+\"_\"+i.split('_')[1] for i in abEx]\n",
    "                tmp = reads.filter(regex=\"^\"+gene,axis=0)\n",
    "                exons2 = [i.split('_')[0]+\"_\"+i.split('_')[1] for i in tmp.index]\n",
    "                \n",
    "                score = scoreAmplif(len(abEx),tmp.shape[0],reads.shape[0],len(abEx)/tmp.shape[0])\n",
    "                \n",
    "                amplif = amplifEvalGene(reads, abSamples, gene, name)\n",
    "\n",
    "                if score>threshold:\n",
    "                    if amplif>1:\n",
    "                        f.loc[q] = [run,name,gene,amplif,score]\n",
    "                        q=q+1\n",
    "                    if amplif<1:\n",
    "                        f.loc[q] = [run,name,gene,amplif,score]\n",
    "                        q=q+1\n",
    "\n",
    "    return(f)\n",
    "\n",
    "\n",
    "\n"
   ]
  },
  {
   "cell_type": "code",
   "execution_count": 32,
   "metadata": {},
   "outputs": [
    {
     "name": "stdout",
     "output_type": "stream",
     "text": [
      "['sample_1' 'sample_9' 'sample_17' 'sample_29']\n"
     ]
    },
    {
     "data": {
      "text/html": [
       "<div>\n",
       "<style scoped>\n",
       "    .dataframe tbody tr th:only-of-type {\n",
       "        vertical-align: middle;\n",
       "    }\n",
       "\n",
       "    .dataframe tbody tr th {\n",
       "        vertical-align: top;\n",
       "    }\n",
       "\n",
       "    .dataframe thead th {\n",
       "        text-align: right;\n",
       "    }\n",
       "</style>\n",
       "<table border=\"1\" class=\"dataframe\">\n",
       "  <thead>\n",
       "    <tr style=\"text-align: right;\">\n",
       "      <th></th>\n",
       "      <th>run</th>\n",
       "      <th>name</th>\n",
       "      <th>gene</th>\n",
       "      <th>amplif</th>\n",
       "      <th>score</th>\n",
       "    </tr>\n",
       "  </thead>\n",
       "  <tbody>\n",
       "    <tr>\n",
       "      <th>0</th>\n",
       "      <td>synt_tsca</td>\n",
       "      <td>sample_1</td>\n",
       "      <td>KIT</td>\n",
       "      <td>4.102158</td>\n",
       "      <td>40.224572</td>\n",
       "    </tr>\n",
       "    <tr>\n",
       "      <th>1</th>\n",
       "      <td>synt_tsca</td>\n",
       "      <td>sample_1</td>\n",
       "      <td>PDGFRA</td>\n",
       "      <td>3.997120</td>\n",
       "      <td>25.165178</td>\n",
       "    </tr>\n",
       "    <tr>\n",
       "      <th>2</th>\n",
       "      <td>synt_tsca</td>\n",
       "      <td>sample_15</td>\n",
       "      <td>KRAS</td>\n",
       "      <td>3.543463</td>\n",
       "      <td>10.444820</td>\n",
       "    </tr>\n",
       "  </tbody>\n",
       "</table>\n",
       "</div>"
      ],
      "text/plain": [
       "         run       name    gene    amplif      score\n",
       "0  synt_tsca   sample_1     KIT  4.102158  40.224572\n",
       "1  synt_tsca   sample_1  PDGFRA  3.997120  25.165178\n",
       "2  synt_tsca  sample_15    KRAS  3.543463  10.444820"
      ]
     },
     "execution_count": 32,
     "metadata": {},
     "output_type": "execute_result"
    }
   ],
   "source": [
    "from tqdm.notebook import tqdm\n",
    "pd.set_option('display.max_rows', 100)\n",
    "\n",
    "run = \"synt_tsca\"\n",
    "output_path = \"/Users/admin/Documents/CNV/\"\n",
    "\n",
    "synt = pd.read_csv(\"/Users/admin/Documents/CNV/synthetic_raw.tsv\",sep=\"\\t\",index_col=0)\n",
    "\n",
    "factor = 3\n",
    "data = add_features(synt,sample=\"sample_1\",gene = \"PDGFRA\",factor = factor)\n",
    "data = add_features(data,sample=\"sample_1\",gene = \"KIT\",factor = factor)\n",
    "data = add_features(data,sample=\"sample_10\",gene = \"KRAS\",factor = factor)\n",
    "data = add_features(data,sample=\"sample_15\",gene = \"KRAS\",factor = factor)\n",
    "\n",
    "abSamples = aberrantSamples(data)\n",
    "#abSamples = [\"sample_1\",\"sample_10\",\"sample_15\"]\n",
    "print(abSamples)\n",
    "final_norm = normalizeReads(data,output_path+'/reads_'+run+'_norm2.tsv',save=False)\n",
    "ff = aberrantAmpliconsFinal(data,final_norm,abSamples,data.columns,run,3)\n",
    "ff\n"
   ]
  },
  {
   "cell_type": "code",
   "execution_count": 21,
   "metadata": {},
   "outputs": [
    {
     "name": "stdout",
     "output_type": "stream",
     "text": [
      "['sample_0', 'sample_19', 'sample_28', 'sample_20']\n",
      "            0\n",
      "0    sample_0\n",
      "6    sample_6\n",
      "7    sample_7\n",
      "9    sample_9\n",
      "15  sample_15\n",
      "17  sample_17\n",
      "19  sample_19\n",
      "20  sample_20\n",
      "21  sample_21\n",
      "28  sample_28\n",
      "29  sample_29\n"
     ]
    },
    {
     "data": {
      "image/png": "[encoded data removed]",
      "text/plain": [
       "<Figure size 432x288 with 1 Axes>"
      ]
     },
     "metadata": {
      "needs_background": "light"
     },
     "output_type": "display_data"
    }
   ],
   "source": [
    "from tqdm.notebook import tqdm\n",
    "import pandas as pd\n",
    "import numpy as np\n",
    "\n",
    "n = 0\n",
    "factor = 3\n",
    "gene = \"EGFR\"\n",
    "\n",
    "tp=[]\n",
    "fp=[]\n",
    "\n",
    "synt = pd.read_csv(\"/Users/admin/Documents/CNV/synthetic_raw.tsv\",sep=\"\\t\",index_col=0)\n",
    "reads = add_features(synt,sample=\"sample_0\",gene = gene,factor = factor)\n",
    "temp = [\"sample_0\"]\n",
    "\n",
    "tmp = np.percentile(reads, 99, axis = 0)/np.mean(reads, axis = 0)\n",
    "plt.xticks(rotation=90)\n",
    "plt.plot(tmp)\n",
    "\n",
    "\n",
    "for N in np.random.randint(30,size=3):\n",
    "    reads = add_features(reads,sample=\"sample_\"+str(N+1),gene = gene,factor = factor)\n",
    "    temp.extend([\"sample_\"+str(N+1)])\n",
    "\n",
    "print(temp)\n",
    "q=[]\n",
    "p=[]\n",
    "tmp = np.percentile(reads, 99, axis = 0)/np.mean(reads, axis = 0)\n",
    "plt.xticks(rotation=90)\n",
    "plt.plot(tmp)\n",
    "\n",
    "tmp = np.percentile(reads, 99, axis = 0)/np.mean(reads, axis = 0)\n",
    "random_data = np.array(tmp).reshape(-1,1)\n",
    "#plt.xticks(rotation=90)\n",
    "#plt.plot(tmp)\n",
    "clf = IsolationForest(contamination='auto').fit(random_data)\n",
    "preds = clf.predict(random_data)\n",
    "abSamples = pd.DataFrame(reads.columns)[preds==-1]\n",
    "print(abSamples)\n",
    "q.extend([sum(np.in1d(abSamples,temp)==True)/len(temp)])\n",
    "p.extend([sum(np.in1d(abSamples,temp)==False)/len(temp)])\n",
    "\n",
    "tp.extend([np.mean(q)])\n",
    "fp.extend([np.mean(p)])\n",
    "\n",
    "\n",
    "#print(str(k)+\": \"+str(q/100))"
   ]
  },
  {
   "cell_type": "code",
   "execution_count": 8,
   "metadata": {},
   "outputs": [
    {
     "data": {
      "application/vnd.jupyter.widget-view+json": {
       "model_id": "de9fe75632284ae98bfa8f276dc87f86",
       "version_major": 2,
       "version_minor": 0
      },
      "text/plain": [
       "HBox(children=(FloatProgress(value=0.0, max=148.0), HTML(value='')))"
      ]
     },
     "metadata": {},
     "output_type": "display_data"
    },
    {
     "name": "stdout",
     "output_type": "stream",
     "text": [
      "\n"
     ]
    },
    {
     "data": {
      "application/vnd.jupyter.widget-view+json": {
       "model_id": "33769438eae04189aa7d45f9630b4989",
       "version_major": 2,
       "version_minor": 0
      },
      "text/plain": [
       "HBox(children=(FloatProgress(value=0.0, max=148.0), HTML(value='')))"
      ]
     },
     "metadata": {},
     "output_type": "display_data"
    },
    {
     "name": "stdout",
     "output_type": "stream",
     "text": [
      "\n"
     ]
    },
    {
     "data": {
      "application/vnd.jupyter.widget-view+json": {
       "model_id": "caa64d80b817475f8d63a874ce206089",
       "version_major": 2,
       "version_minor": 0
      },
      "text/plain": [
       "HBox(children=(FloatProgress(value=0.0, max=148.0), HTML(value='')))"
      ]
     },
     "metadata": {},
     "output_type": "display_data"
    },
    {
     "name": "stdout",
     "output_type": "stream",
     "text": [
      "\n"
     ]
    },
    {
     "data": {
      "application/vnd.jupyter.widget-view+json": {
       "model_id": "8a960fc5927c4f22aa82b78a65fe0bcc",
       "version_major": 2,
       "version_minor": 0
      },
      "text/plain": [
       "HBox(children=(FloatProgress(value=0.0, max=148.0), HTML(value='')))"
      ]
     },
     "metadata": {},
     "output_type": "display_data"
    },
    {
     "name": "stdout",
     "output_type": "stream",
     "text": [
      "\n"
     ]
    },
    {
     "data": {
      "application/vnd.jupyter.widget-view+json": {
       "model_id": "92bf47e5e8584c27abbf9da74f2a283a",
       "version_major": 2,
       "version_minor": 0
      },
      "text/plain": [
       "HBox(children=(FloatProgress(value=0.0, max=148.0), HTML(value='')))"
      ]
     },
     "metadata": {},
     "output_type": "display_data"
    },
    {
     "name": "stdout",
     "output_type": "stream",
     "text": [
      "\n"
     ]
    },
    {
     "data": {
      "application/vnd.jupyter.widget-view+json": {
       "model_id": "4678a66b302d44e6a8dd1c77c233a9f5",
       "version_major": 2,
       "version_minor": 0
      },
      "text/plain": [
       "HBox(children=(FloatProgress(value=0.0, max=148.0), HTML(value='')))"
      ]
     },
     "metadata": {},
     "output_type": "display_data"
    },
    {
     "name": "stdout",
     "output_type": "stream",
     "text": [
      "\n"
     ]
    },
    {
     "data": {
      "application/vnd.jupyter.widget-view+json": {
       "model_id": "030d7df42ea4420bb0258119dac21400",
       "version_major": 2,
       "version_minor": 0
      },
      "text/plain": [
       "HBox(children=(FloatProgress(value=0.0, max=148.0), HTML(value='')))"
      ]
     },
     "metadata": {},
     "output_type": "display_data"
    },
    {
     "name": "stdout",
     "output_type": "stream",
     "text": [
      "\n"
     ]
    },
    {
     "data": {
      "application/vnd.jupyter.widget-view+json": {
       "model_id": "7ee39698639e4b6dad0baca9ea477971",
       "version_major": 2,
       "version_minor": 0
      },
      "text/plain": [
       "HBox(children=(FloatProgress(value=0.0, max=148.0), HTML(value='')))"
      ]
     },
     "metadata": {},
     "output_type": "display_data"
    },
    {
     "name": "stdout",
     "output_type": "stream",
     "text": [
      "\n"
     ]
    },
    {
     "data": {
      "application/vnd.jupyter.widget-view+json": {
       "model_id": "6b4e770a2d104cb3b762b614a1f8f6ba",
       "version_major": 2,
       "version_minor": 0
      },
      "text/plain": [
       "HBox(children=(FloatProgress(value=0.0, max=148.0), HTML(value='')))"
      ]
     },
     "metadata": {},
     "output_type": "display_data"
    },
    {
     "name": "stdout",
     "output_type": "stream",
     "text": [
      "\n"
     ]
    }
   ],
   "source": [
    "from tqdm.notebook import tqdm\n",
    "\n",
    "synt = pd.read_csv(\"/Users/admin/Documents/CNV/synthetic_raw.tsv\",sep=\"\\t\",index_col=0)\n",
    "\n",
    "tpp=[]\n",
    "q=[]\n",
    "r=[]\n",
    "s=[]\n",
    "for p in range(2,11):\n",
    "    for k in tqdm(range(1,round(synt.shape[0]/2),5)): \n",
    "        for factor in range(0,11,1):\n",
    "            factor = factor/10\n",
    "            synt = pd.read_csv(\"/Users/admin/Documents/CNV/synthetic_raw.tsv\",sep=\"\\t\",index_col=0)\n",
    "\n",
    "            col = \"sample_\"+str(np.random.randint(32))\n",
    "            row = synt.index[np.random.randint(synt.shape[0],size=k)]\n",
    "\n",
    "            neg = synt.columns[~np.in1d(synt.columns,col)]\n",
    "\n",
    "            for i in row:\n",
    "                synt.at[i,col] = synt.at[i,col]*factor\n",
    "\n",
    "            synt_norm = synt/synt.median(axis=0)\n",
    "            #synt_norm = np.log(synt_norm)\n",
    "            pos = col\n",
    "\n",
    "            tmp = np.percentile(synt, 1, axis = 0)/np.mean(synt, axis = 0)\n",
    "            random_data = np.array(tmp).reshape(-1,1)\n",
    "\n",
    "            clf = IsolationForest(contamination=\"auto\").fit(random_data)\n",
    "            preds = clf.predict(random_data)\n",
    "            det = np.array(synt.columns)[preds==-1]\n",
    "\n",
    "            ndet = synt.columns[~np.in1d(synt.columns,det)]\n",
    "            #random_data = np.array(tmp).reshape(-1,1)\n",
    "            #clf = IsolationForest(contamination=\"auto\").fit(np.array(np.mean(synt_norm[normal], axis = 1)).reshape(-1,1))\n",
    "            #preds = clf.predict(random_data)\n",
    "\n",
    "            #det = np.array(synt_norm.index)[preds==-1]\n",
    "            #ndet = synt.index[~np.in1d(synt.index,det)]\n",
    "            #pos = row\n",
    "            #neg = synt.index[~np.in1d(synt.index,pos)]\n",
    "\n",
    "            tpp.extend([sum(np.in1d(ndet,neg))/len(ndet)])\n",
    "\n",
    "\n",
    "    pd.DataFrame(tpp).to_csv(\"/Users/admin/Documents/CNV/article/tn_del_\"+str(p)+\".tsv\", sep=\"\\t\",index=False)\n"
   ]
  }
 ],
 "metadata": {
  "kernelspec": {
   "display_name": "Python 3",
   "language": "python",
   "name": "python3"
  },
  "language_info": {
   "codemirror_mode": {
    "name": "ipython",
    "version": 3
   },
   "file_extension": ".py",
   "mimetype": "text/x-python",
   "name": "python",
   "nbconvert_exporter": "python",
   "pygments_lexer": "ipython3",
   "version": "3.8.3"
  }
 },
 "nbformat": 4,
 "nbformat_minor": 4
}
